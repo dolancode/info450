{
 "cells": [
  {
   "cell_type": "markdown",
   "metadata": {
    "pycharm": {
     "name": "#%% md\n"
    }
   },
   "source": [
    "<img src=\"https://pynative.com/wp-content/uploads/2021/03/python-list.jpg\">"
   ]
  },
  {
   "cell_type": "markdown",
   "metadata": {
    "pycharm": {
     "name": "#%% md\n"
    }
   },
   "source": [
    "# Solve problems 1-5\n",
    "# If you need help, please use Chapter 3 & 4 in the Python Crash Course book and Chapter 3.1 in Python for Data Analysis"
   ]
  },
  {
   "cell_type": "code",
   "execution_count": 1,
   "metadata": {
    "pycharm": {
     "name": "#%%\n"
    }
   },
   "outputs": [
    {
     "name": "stdout",
     "output_type": "stream",
     "text": [
      "[5, 4, 3, 2, 1, 1, 2, 3, 4, 5]\n"
     ]
    }
   ],
   "source": [
    "#1. Sorting Lists\n",
    "# Write a python program to sort a list, and then concatenate the reverse list to it\n",
    "\n",
    "# sample list: [2,4,3,1,5]\n",
    "# expected results: [5,4,3,2,1,1,2,3,4,5]\n",
    "\n",
    "uno = [2,4,3,1,5]\n",
    "uno_sorted = sorted(uno)\n",
    "uno.sort(reverse=True)\n",
    "\n",
    "print(uno + uno_sorted)\n"
   ]
  },
  {
   "cell_type": "code",
   "execution_count": 16,
   "metadata": {
    "pycharm": {
     "name": "#%%\n"
    }
   },
   "outputs": [
    {
     "name": "stdout",
     "output_type": "stream",
     "text": [
      "[(4, 4), (2, 5), (2, 3), (2, 1), (1, 2)]\n"
     ]
    }
   ],
   "source": [
    "#2. Sorting Tuples in a list\n",
    "#Write a Python program which receives a list of tuples as input.  \n",
    "#The output should be a list of the tuples in descending order.\n",
    "\n",
    "#Sample List : [(2, 5), (1, 2), (4, 4), (2, 3), (2, 1)]\n",
    "#Expected Result : [(4, 4), (2, 5), (2, 3), (2, 1), (1, 2)]\n",
    "\n",
    "texas =  [(2, 5), (1, 2), (4, 4), (2, 3), (2, 1)]\n",
    "texas.sort(reverse=True)\n",
    "print(texas)"
   ]
  },
  {
   "cell_type": "code",
   "execution_count": 27,
   "metadata": {
    "pycharm": {
     "name": "#%%\n"
    }
   },
   "outputs": [
    {
     "name": "stdout",
     "output_type": "stream",
     "text": [
      "[1, 4, 9, 16, 25, 676, 729, 784, 841, 900]\n"
     ]
    }
   ],
   "source": [
    "#3. List Comprehension/ For Loop\n",
    "#Write a Python program to create a list of numbers whose values are the squares of numbers 1 through 30.  \n",
    "#Print the first and last 5 members into ONE list.\n",
    "\n",
    "#Output: [\"1\",\"4\",\"9\",\"16\", \"25\", \"625\",\"676\", \"729\",\"784\", \"900\"]\n",
    "\n",
    "\n",
    "bama = []\n",
    "for x in range(1,31):\n",
    "   bama.append(x * x)\n",
    "result = bama[0 : 5] + bama[25 : 30]\n",
    "\n",
    "print(result)\n"
   ]
  },
  {
   "cell_type": "code",
   "execution_count": 28,
   "metadata": {
    "pycharm": {
     "name": "#%%\n"
    }
   },
   "outputs": [
    {
     "name": "stdout",
     "output_type": "stream",
     "text": [
      "My name is Alyssa\n"
     ]
    }
   ],
   "source": [
    "#4. Problem: Concatenate two lists\n",
    "\n",
    "# Input: Two lists of strings:\n",
    "list1 = [\"M\", \"na\", \"i\", \"Aly\"]\n",
    "list2 = [\"y\", \"me\", \"s\", \"ssa\"]\n",
    "\n",
    "# Output:  Combine the output of the two lists into a string with spaces in between the words – My name is Alyssa\n",
    "\n",
    "i = 0\n",
    "while i < len(list1):\n",
    "    list1[i]+=list2[i]\n",
    "    i+=1\n",
    "s = \" \"\n",
    "s = s.join(list1)\n",
    "print(s)"
   ]
  },
  {
   "cell_type": "code",
   "execution_count": 2,
   "metadata": {
    "pycharm": {
     "name": "#%%\n"
    }
   },
   "outputs": [
    {
     "name": "stdout",
     "output_type": "stream",
     "text": [
      "2\n",
      "3\n",
      "5\n",
      "7\n",
      "11\n",
      "13\n",
      "17\n",
      "19\n",
      "23\n",
      "29\n",
      "31\n",
      "37\n",
      "41\n",
      "43\n",
      "47\n",
      "53\n",
      "59\n"
     ]
    }
   ],
   "source": [
    "#5. List Comprehension\n",
    "# Prime number is greater than 1, a whole number, and is only divisible by one and itself.\n",
    "# Accepts as input from the user: an integer.  The integer must be less than 100.\n",
    "# Output – prints the prime numbers up to and including the user-entered integer.\n",
    "\n",
    "# Example: User enters 5\n",
    "#Output\n",
    "#2\n",
    "#3\n",
    "#5\n",
    "prime_num = [2, 3, 5, 7, 11, 13, 17, 19, 23, 29, 31, 37, 41, 43, 47, 53, 59, 61, 67, 71, 73, 79, 83, 89, 97]\n",
    "numero = int(input(\"Enter integer less than 100\"))\n",
    "if numero > 100 or numero < 1:\n",
    "    raise Exception(\"invalid\")\n",
    "for num in prime_num:\n",
    "    if num > numero:\n",
    "        break\n",
    "    print(num)\n"
   ]
  },
  {
   "cell_type": "code",
   "execution_count": null,
   "outputs": [],
   "source": [],
   "metadata": {
    "collapsed": false,
    "pycharm": {
     "name": "#%%\n",
     "is_executing": true
    }
   }
  },
  {
   "cell_type": "code",
   "execution_count": 33,
   "outputs": [],
   "source": [],
   "metadata": {
    "collapsed": false,
    "pycharm": {
     "name": "#%%\n"
    }
   }
  }
 ],
 "metadata": {
  "kernelspec": {
   "display_name": "Python 3",
   "language": "python",
   "name": "python3"
  },
  "language_info": {
   "codemirror_mode": {
    "name": "ipython",
    "version": 3
   },
   "file_extension": ".py",
   "mimetype": "text/x-python",
   "name": "python",
   "nbconvert_exporter": "python",
   "pygments_lexer": "ipython3",
   "version": "3.7.4"
  }
 },
 "nbformat": 4,
 "nbformat_minor": 2
}