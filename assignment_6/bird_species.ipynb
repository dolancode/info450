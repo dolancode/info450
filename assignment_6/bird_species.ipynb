{
 "cells": [
  {
   "cell_type": "code",
   "execution_count": 4,
   "outputs": [],
   "source": [
    "import pandas as pd\n"
   ],
   "metadata": {
    "collapsed": false
   }
  },
  {
   "cell_type": "code",
   "execution_count": 11,
   "outputs": [
    {
     "data": {
      "text/plain": "           Aircraft Mass  Wing or Rotor Strike  Wing or Rotor Damage\nRecord ID                                                           \n127128               4.0                     0                     0\n129779               4.0                     0                     0\n2258                 3.0                     1                     0\n129734               4.0                     0                     0\n127848               3.0                     0                     0\n107155               4.0                     0                     0\n113914               3.0                     0                     0\n102248               4.0                     0                     0\n129739               4.0                     0                     0\n127472               1.0                     0                     0\n129401               1.0                     0                     0\n102359               4.0                     0                     0\n127473               3.0                     0                     0\n129614               4.0                     0                     0\n129402               3.0                     0                     0\n129089               1.0                     0                     0\n127474               1.0                     0                     0\n1607                 3.0                     0                     0\n1608                 3.0                     1                     0\n129747               4.0                     0                     0\n126914               2.0                     0                     0\n127252               4.0                     0                     0\n123253               4.0                     0                     0\n123992               5.0                     0                     0\n120677               4.0                     0                     0\n129615               3.0                     0                     0\n126128               4.0                     0                     0\n123359               4.0                     0                     0\n129617               4.0                     0                     0\n129403               1.0                     0                     0\n1613                 3.0                     1                     0\n100032               4.0                     0                     0\n100363               3.0                     0                     0\n129616               4.0                     0                     0\n116440               4.0                     0                     0\n116450               4.0                     0                     0\n101602               4.0                     0                     0\n126915               4.0                     0                     0\n120049               4.0                     0                     0\n123681               4.0                     0                     0\n110494               4.0                     0                     0\n2144                 3.0                     1                     1\n100098               4.0                     0                     0\n103768               4.0                     0                     0\n120880               4.0                     0                     0\n125639               4.0                     0                     0\n122404               4.0                     0                     0\n2147                 3.0                     0                     0\n101577               1.0                     0                     0\n102449               5.0                     0                     0",
      "text/html": "<div>\n<style scoped>\n    .dataframe tbody tr th:only-of-type {\n        vertical-align: middle;\n    }\n\n    .dataframe tbody tr th {\n        vertical-align: top;\n    }\n\n    .dataframe thead th {\n        text-align: right;\n    }\n</style>\n<table border=\"1\" class=\"dataframe\">\n  <thead>\n    <tr style=\"text-align: right;\">\n      <th></th>\n      <th>Aircraft Mass</th>\n      <th>Wing or Rotor Strike</th>\n      <th>Wing or Rotor Damage</th>\n    </tr>\n    <tr>\n      <th>Record ID</th>\n      <th></th>\n      <th></th>\n      <th></th>\n    </tr>\n  </thead>\n  <tbody>\n    <tr>\n      <th>127128</th>\n      <td>4.0</td>\n      <td>0</td>\n      <td>0</td>\n    </tr>\n    <tr>\n      <th>129779</th>\n      <td>4.0</td>\n      <td>0</td>\n      <td>0</td>\n    </tr>\n    <tr>\n      <th>2258</th>\n      <td>3.0</td>\n      <td>1</td>\n      <td>0</td>\n    </tr>\n    <tr>\n      <th>129734</th>\n      <td>4.0</td>\n      <td>0</td>\n      <td>0</td>\n    </tr>\n    <tr>\n      <th>127848</th>\n      <td>3.0</td>\n      <td>0</td>\n      <td>0</td>\n    </tr>\n    <tr>\n      <th>107155</th>\n      <td>4.0</td>\n      <td>0</td>\n      <td>0</td>\n    </tr>\n    <tr>\n      <th>113914</th>\n      <td>3.0</td>\n      <td>0</td>\n      <td>0</td>\n    </tr>\n    <tr>\n      <th>102248</th>\n      <td>4.0</td>\n      <td>0</td>\n      <td>0</td>\n    </tr>\n    <tr>\n      <th>129739</th>\n      <td>4.0</td>\n      <td>0</td>\n      <td>0</td>\n    </tr>\n    <tr>\n      <th>127472</th>\n      <td>1.0</td>\n      <td>0</td>\n      <td>0</td>\n    </tr>\n    <tr>\n      <th>129401</th>\n      <td>1.0</td>\n      <td>0</td>\n      <td>0</td>\n    </tr>\n    <tr>\n      <th>102359</th>\n      <td>4.0</td>\n      <td>0</td>\n      <td>0</td>\n    </tr>\n    <tr>\n      <th>127473</th>\n      <td>3.0</td>\n      <td>0</td>\n      <td>0</td>\n    </tr>\n    <tr>\n      <th>129614</th>\n      <td>4.0</td>\n      <td>0</td>\n      <td>0</td>\n    </tr>\n    <tr>\n      <th>129402</th>\n      <td>3.0</td>\n      <td>0</td>\n      <td>0</td>\n    </tr>\n    <tr>\n      <th>129089</th>\n      <td>1.0</td>\n      <td>0</td>\n      <td>0</td>\n    </tr>\n    <tr>\n      <th>127474</th>\n      <td>1.0</td>\n      <td>0</td>\n      <td>0</td>\n    </tr>\n    <tr>\n      <th>1607</th>\n      <td>3.0</td>\n      <td>0</td>\n      <td>0</td>\n    </tr>\n    <tr>\n      <th>1608</th>\n      <td>3.0</td>\n      <td>1</td>\n      <td>0</td>\n    </tr>\n    <tr>\n      <th>129747</th>\n      <td>4.0</td>\n      <td>0</td>\n      <td>0</td>\n    </tr>\n    <tr>\n      <th>126914</th>\n      <td>2.0</td>\n      <td>0</td>\n      <td>0</td>\n    </tr>\n    <tr>\n      <th>127252</th>\n      <td>4.0</td>\n      <td>0</td>\n      <td>0</td>\n    </tr>\n    <tr>\n      <th>123253</th>\n      <td>4.0</td>\n      <td>0</td>\n      <td>0</td>\n    </tr>\n    <tr>\n      <th>123992</th>\n      <td>5.0</td>\n      <td>0</td>\n      <td>0</td>\n    </tr>\n    <tr>\n      <th>120677</th>\n      <td>4.0</td>\n      <td>0</td>\n      <td>0</td>\n    </tr>\n    <tr>\n      <th>129615</th>\n      <td>3.0</td>\n      <td>0</td>\n      <td>0</td>\n    </tr>\n    <tr>\n      <th>126128</th>\n      <td>4.0</td>\n      <td>0</td>\n      <td>0</td>\n    </tr>\n    <tr>\n      <th>123359</th>\n      <td>4.0</td>\n      <td>0</td>\n      <td>0</td>\n    </tr>\n    <tr>\n      <th>129617</th>\n      <td>4.0</td>\n      <td>0</td>\n      <td>0</td>\n    </tr>\n    <tr>\n      <th>129403</th>\n      <td>1.0</td>\n      <td>0</td>\n      <td>0</td>\n    </tr>\n    <tr>\n      <th>1613</th>\n      <td>3.0</td>\n      <td>1</td>\n      <td>0</td>\n    </tr>\n    <tr>\n      <th>100032</th>\n      <td>4.0</td>\n      <td>0</td>\n      <td>0</td>\n    </tr>\n    <tr>\n      <th>100363</th>\n      <td>3.0</td>\n      <td>0</td>\n      <td>0</td>\n    </tr>\n    <tr>\n      <th>129616</th>\n      <td>4.0</td>\n      <td>0</td>\n      <td>0</td>\n    </tr>\n    <tr>\n      <th>116440</th>\n      <td>4.0</td>\n      <td>0</td>\n      <td>0</td>\n    </tr>\n    <tr>\n      <th>116450</th>\n      <td>4.0</td>\n      <td>0</td>\n      <td>0</td>\n    </tr>\n    <tr>\n      <th>101602</th>\n      <td>4.0</td>\n      <td>0</td>\n      <td>0</td>\n    </tr>\n    <tr>\n      <th>126915</th>\n      <td>4.0</td>\n      <td>0</td>\n      <td>0</td>\n    </tr>\n    <tr>\n      <th>120049</th>\n      <td>4.0</td>\n      <td>0</td>\n      <td>0</td>\n    </tr>\n    <tr>\n      <th>123681</th>\n      <td>4.0</td>\n      <td>0</td>\n      <td>0</td>\n    </tr>\n    <tr>\n      <th>110494</th>\n      <td>4.0</td>\n      <td>0</td>\n      <td>0</td>\n    </tr>\n    <tr>\n      <th>2144</th>\n      <td>3.0</td>\n      <td>1</td>\n      <td>1</td>\n    </tr>\n    <tr>\n      <th>100098</th>\n      <td>4.0</td>\n      <td>0</td>\n      <td>0</td>\n    </tr>\n    <tr>\n      <th>103768</th>\n      <td>4.0</td>\n      <td>0</td>\n      <td>0</td>\n    </tr>\n    <tr>\n      <th>120880</th>\n      <td>4.0</td>\n      <td>0</td>\n      <td>0</td>\n    </tr>\n    <tr>\n      <th>125639</th>\n      <td>4.0</td>\n      <td>0</td>\n      <td>0</td>\n    </tr>\n    <tr>\n      <th>122404</th>\n      <td>4.0</td>\n      <td>0</td>\n      <td>0</td>\n    </tr>\n    <tr>\n      <th>2147</th>\n      <td>3.0</td>\n      <td>0</td>\n      <td>0</td>\n    </tr>\n    <tr>\n      <th>101577</th>\n      <td>1.0</td>\n      <td>0</td>\n      <td>0</td>\n    </tr>\n    <tr>\n      <th>102449</th>\n      <td>5.0</td>\n      <td>0</td>\n      <td>0</td>\n    </tr>\n  </tbody>\n</table>\n</div>"
     },
     "execution_count": 11,
     "metadata": {},
     "output_type": "execute_result"
    }
   ],
   "source": [
    "df = pd.read_csv(\"aircraft_wildlife.csv\",\n",
    "                     sep=\",\",  # delimiter\n",
    "                     header=0, # header in first row\n",
    "                     index_col=0, # ids in first column,\n",
    "                     usecols = ['Record ID','Aircraft Mass', 'Wing or Rotor Strike', 'Wing or Rotor Damage']\n",
    "                     )\n",
    "\n",
    "df = df.dropna(subset=['Aircraft Mass'])\n",
    "\n",
    "df.head(50)\n"
   ],
   "metadata": {
    "collapsed": false
   }
  },
  {
   "cell_type": "code",
   "execution_count": null,
   "outputs": [],
   "source": [
    "# Does aircraft mass relate to wing strikes"
   ],
   "metadata": {
    "collapsed": false
   }
  },
  {
   "cell_type": "code",
   "execution_count": null,
   "outputs": [],
   "source": [
    "aircart_strike="
   ],
   "metadata": {
    "collapsed": false
   }
  }
 ],
 "metadata": {
  "kernelspec": {
   "display_name": "Python 3",
   "language": "python",
   "name": "python3"
  },
  "language_info": {
   "codemirror_mode": {
    "name": "ipython",
    "version": 2
   },
   "file_extension": ".py",
   "mimetype": "text/x-python",
   "name": "python",
   "nbconvert_exporter": "python",
   "pygments_lexer": "ipython2",
   "version": "2.7.6"
  }
 },
 "nbformat": 4,
 "nbformat_minor": 0
}
