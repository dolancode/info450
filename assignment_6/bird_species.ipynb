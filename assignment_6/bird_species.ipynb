{
 "cells": [
  {
   "cell_type": "code",
   "execution_count": 4,
   "outputs": [],
   "source": [
    "import pandas as pd\n"
   ],
   "metadata": {
    "collapsed": false
   }
  },
  {
   "cell_type": "code",
   "execution_count": 6,
   "outputs": [
    {
     "name": "stderr",
     "output_type": "stream",
     "text": [
      "/var/folders/yc/033ng22x3_14htnw_rjy51540000gn/T/ipykernel_7267/2314363374.py:1: DtypeWarning: Columns (9,12,15,17) have mixed types. Specify dtype option on import or set low_memory=False.\n",
      "  df = pd.read_csv(\"aircraft_wildlife.csv\",\n"
     ]
    },
    {
     "data": {
      "text/plain": "           Incident Year  Incident Month  Incident Day Operator ID  \\\nRecord ID                                                            \n127128              1990               1             1         DAL   \n129779              1990               1             1         HAL   \n129780              1990               1             2         UNK   \n2258                1990               1             3         MIL   \n2257                1990               1             3         MIL   \n\n                  Operator   Aircraft Aircraft Type Aircraft Make  \\\nRecord ID                                                           \n127128     DELTA AIR LINES  B-757-200             A           148   \n129779        HAWAIIAN AIR       DC-9             A           583   \n129780             UNKNOWN    UNKNOWN           NaN           NaN   \n2258              MILITARY      A-10A             A           345   \n2257              MILITARY       F-16             A           561   \n\n          Aircraft Model  Aircraft Mass  ...  Fuselage Strike Fuselage Damage  \\\nRecord ID                                ...                                    \n127128                26            4.0  ...                0               0   \n129779                90            4.0  ...                0               0   \n129780               NaN            NaN  ...                0               0   \n2258                 NaN            3.0  ...                0               0   \n2257                 NaN            NaN  ...                0               0   \n\n           Landing Gear Strike Landing Gear Damage Tail Strike  Tail Damage  \\\nRecord ID                                                                     \n127128                       0                   0           1            1   \n129779                       0                   0           0            0   \n129780                       0                   0           0            0   \n2258                         0                   0           0            0   \n2257                         0                   0           0            0   \n\n          Lights Strike  Lights Damage Other Strike Other Damage  \nRecord ID                                                         \n127128                0              0            0            0  \n129779                0              0            1            0  \n129780                0              0            0            0  \n2258                  0              0            0            0  \n2257                  0              0            0            0  \n\n[5 rows x 65 columns]",
      "text/html": "<div>\n<style scoped>\n    .dataframe tbody tr th:only-of-type {\n        vertical-align: middle;\n    }\n\n    .dataframe tbody tr th {\n        vertical-align: top;\n    }\n\n    .dataframe thead th {\n        text-align: right;\n    }\n</style>\n<table border=\"1\" class=\"dataframe\">\n  <thead>\n    <tr style=\"text-align: right;\">\n      <th></th>\n      <th>Incident Year</th>\n      <th>Incident Month</th>\n      <th>Incident Day</th>\n      <th>Operator ID</th>\n      <th>Operator</th>\n      <th>Aircraft</th>\n      <th>Aircraft Type</th>\n      <th>Aircraft Make</th>\n      <th>Aircraft Model</th>\n      <th>Aircraft Mass</th>\n      <th>...</th>\n      <th>Fuselage Strike</th>\n      <th>Fuselage Damage</th>\n      <th>Landing Gear Strike</th>\n      <th>Landing Gear Damage</th>\n      <th>Tail Strike</th>\n      <th>Tail Damage</th>\n      <th>Lights Strike</th>\n      <th>Lights Damage</th>\n      <th>Other Strike</th>\n      <th>Other Damage</th>\n    </tr>\n    <tr>\n      <th>Record ID</th>\n      <th></th>\n      <th></th>\n      <th></th>\n      <th></th>\n      <th></th>\n      <th></th>\n      <th></th>\n      <th></th>\n      <th></th>\n      <th></th>\n      <th></th>\n      <th></th>\n      <th></th>\n      <th></th>\n      <th></th>\n      <th></th>\n      <th></th>\n      <th></th>\n      <th></th>\n      <th></th>\n      <th></th>\n    </tr>\n  </thead>\n  <tbody>\n    <tr>\n      <th>127128</th>\n      <td>1990</td>\n      <td>1</td>\n      <td>1</td>\n      <td>DAL</td>\n      <td>DELTA AIR LINES</td>\n      <td>B-757-200</td>\n      <td>A</td>\n      <td>148</td>\n      <td>26</td>\n      <td>4.0</td>\n      <td>...</td>\n      <td>0</td>\n      <td>0</td>\n      <td>0</td>\n      <td>0</td>\n      <td>1</td>\n      <td>1</td>\n      <td>0</td>\n      <td>0</td>\n      <td>0</td>\n      <td>0</td>\n    </tr>\n    <tr>\n      <th>129779</th>\n      <td>1990</td>\n      <td>1</td>\n      <td>1</td>\n      <td>HAL</td>\n      <td>HAWAIIAN AIR</td>\n      <td>DC-9</td>\n      <td>A</td>\n      <td>583</td>\n      <td>90</td>\n      <td>4.0</td>\n      <td>...</td>\n      <td>0</td>\n      <td>0</td>\n      <td>0</td>\n      <td>0</td>\n      <td>0</td>\n      <td>0</td>\n      <td>0</td>\n      <td>0</td>\n      <td>1</td>\n      <td>0</td>\n    </tr>\n    <tr>\n      <th>129780</th>\n      <td>1990</td>\n      <td>1</td>\n      <td>2</td>\n      <td>UNK</td>\n      <td>UNKNOWN</td>\n      <td>UNKNOWN</td>\n      <td>NaN</td>\n      <td>NaN</td>\n      <td>NaN</td>\n      <td>NaN</td>\n      <td>...</td>\n      <td>0</td>\n      <td>0</td>\n      <td>0</td>\n      <td>0</td>\n      <td>0</td>\n      <td>0</td>\n      <td>0</td>\n      <td>0</td>\n      <td>0</td>\n      <td>0</td>\n    </tr>\n    <tr>\n      <th>2258</th>\n      <td>1990</td>\n      <td>1</td>\n      <td>3</td>\n      <td>MIL</td>\n      <td>MILITARY</td>\n      <td>A-10A</td>\n      <td>A</td>\n      <td>345</td>\n      <td>NaN</td>\n      <td>3.0</td>\n      <td>...</td>\n      <td>0</td>\n      <td>0</td>\n      <td>0</td>\n      <td>0</td>\n      <td>0</td>\n      <td>0</td>\n      <td>0</td>\n      <td>0</td>\n      <td>0</td>\n      <td>0</td>\n    </tr>\n    <tr>\n      <th>2257</th>\n      <td>1990</td>\n      <td>1</td>\n      <td>3</td>\n      <td>MIL</td>\n      <td>MILITARY</td>\n      <td>F-16</td>\n      <td>A</td>\n      <td>561</td>\n      <td>NaN</td>\n      <td>NaN</td>\n      <td>...</td>\n      <td>0</td>\n      <td>0</td>\n      <td>0</td>\n      <td>0</td>\n      <td>0</td>\n      <td>0</td>\n      <td>0</td>\n      <td>0</td>\n      <td>0</td>\n      <td>0</td>\n    </tr>\n  </tbody>\n</table>\n<p>5 rows × 65 columns</p>\n</div>"
     },
     "execution_count": 6,
     "metadata": {},
     "output_type": "execute_result"
    }
   ],
   "source": [
    "df = pd.read_csv(\"aircraft_wildlife.csv\",\n",
    "                     sep=\",\",  # delimiter\n",
    "                     header=0, # header in first row\n",
    "                     index_col=0 # ids in first column\n",
    "                     )\n",
    "df.head()\n",
    "\n"
   ],
   "metadata": {
    "collapsed": false
   }
  },
  {
   "cell_type": "code",
   "execution_count": null,
   "outputs": [],
   "source": [],
   "metadata": {
    "collapsed": false
   }
  }
 ],
 "metadata": {
  "kernelspec": {
   "display_name": "Python 3",
   "language": "python",
   "name": "python3"
  },
  "language_info": {
   "codemirror_mode": {
    "name": "ipython",
    "version": 2
   },
   "file_extension": ".py",
   "mimetype": "text/x-python",
   "name": "python",
   "nbconvert_exporter": "python",
   "pygments_lexer": "ipython2",
   "version": "2.7.6"
  }
 },
 "nbformat": 4,
 "nbformat_minor": 0
}
