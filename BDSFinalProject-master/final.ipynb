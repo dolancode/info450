{
 "cells": [
  {
   "cell_type": "code",
   "execution_count": 2,
   "metadata": {
    "collapsed": true
   },
   "outputs": [
    {
     "name": "stdout",
     "output_type": "stream",
     "text": [
      "Requirement already satisfied: xgboost in /Users/dylanhahn/opt/anaconda3/lib/python3.9/site-packages (1.7.1)\r\n",
      "Requirement already satisfied: scipy in /Users/dylanhahn/opt/anaconda3/lib/python3.9/site-packages (from xgboost) (1.7.3)\r\n",
      "Requirement already satisfied: numpy in /Users/dylanhahn/opt/anaconda3/lib/python3.9/site-packages (from xgboost) (1.21.5)\r\n"
     ]
    }
   ],
   "source": [
    "import pandas as pd\n",
    "import numpy as np\n",
    "import seaborn as sns\n",
    "import matplotlib.pyplot as plt\n",
    "from sklearn.preprocessing import RobustScaler, StandardScaler, MinMaxScaler, OneHotEncoder\n",
    "from sklearn.model_selection import cross_val_score, train_test_split, cross_val_predict\n",
    "from sklearn.ensemble import RandomForestClassifier\n",
    "from sklearn.metrics import roc_auc_score\n",
    "!pip install xgboost\n",
    "import xgboost as xgb\n",
    "from xgboost import XGBClassifier"
   ]
  },
  {
   "cell_type": "code",
   "execution_count": 3,
   "outputs": [
    {
     "data": {
      "text/plain": "    company        location industry  total_laid_off  percentage_laid_off  \\\n0     Lemon    Buenos Aires   Crypto             NaN                 0.38   \n1    Assure  Salt Lake City  Finance             NaN                 1.00   \n2  GoodGood         Toronto   Retail             NaN                 1.00   \n3    SIRCLO         Jakarta   Retail           160.0                 0.08   \n4      Trax       Singapore   Retail            80.0                 0.08   \n\n         date     stage        country  funds_raised  \n0  2022-11-24  Series A      Argentina          17.0  \n1  2022-11-23      Seed  United States           2.0  \n2  2022-11-23      Seed         Canada           6.0  \n3  2022-11-22  Series B      Indonesia          92.0  \n4  2022-11-22  Series E      Singapore        1000.0  ",
      "text/html": "<div>\n<style scoped>\n    .dataframe tbody tr th:only-of-type {\n        vertical-align: middle;\n    }\n\n    .dataframe tbody tr th {\n        vertical-align: top;\n    }\n\n    .dataframe thead th {\n        text-align: right;\n    }\n</style>\n<table border=\"1\" class=\"dataframe\">\n  <thead>\n    <tr style=\"text-align: right;\">\n      <th></th>\n      <th>company</th>\n      <th>location</th>\n      <th>industry</th>\n      <th>total_laid_off</th>\n      <th>percentage_laid_off</th>\n      <th>date</th>\n      <th>stage</th>\n      <th>country</th>\n      <th>funds_raised</th>\n    </tr>\n  </thead>\n  <tbody>\n    <tr>\n      <th>0</th>\n      <td>Lemon</td>\n      <td>Buenos Aires</td>\n      <td>Crypto</td>\n      <td>NaN</td>\n      <td>0.38</td>\n      <td>2022-11-24</td>\n      <td>Series A</td>\n      <td>Argentina</td>\n      <td>17.0</td>\n    </tr>\n    <tr>\n      <th>1</th>\n      <td>Assure</td>\n      <td>Salt Lake City</td>\n      <td>Finance</td>\n      <td>NaN</td>\n      <td>1.00</td>\n      <td>2022-11-23</td>\n      <td>Seed</td>\n      <td>United States</td>\n      <td>2.0</td>\n    </tr>\n    <tr>\n      <th>2</th>\n      <td>GoodGood</td>\n      <td>Toronto</td>\n      <td>Retail</td>\n      <td>NaN</td>\n      <td>1.00</td>\n      <td>2022-11-23</td>\n      <td>Seed</td>\n      <td>Canada</td>\n      <td>6.0</td>\n    </tr>\n    <tr>\n      <th>3</th>\n      <td>SIRCLO</td>\n      <td>Jakarta</td>\n      <td>Retail</td>\n      <td>160.0</td>\n      <td>0.08</td>\n      <td>2022-11-22</td>\n      <td>Series B</td>\n      <td>Indonesia</td>\n      <td>92.0</td>\n    </tr>\n    <tr>\n      <th>4</th>\n      <td>Trax</td>\n      <td>Singapore</td>\n      <td>Retail</td>\n      <td>80.0</td>\n      <td>0.08</td>\n      <td>2022-11-22</td>\n      <td>Series E</td>\n      <td>Singapore</td>\n      <td>1000.0</td>\n    </tr>\n  </tbody>\n</table>\n</div>"
     },
     "execution_count": 3,
     "metadata": {},
     "output_type": "execute_result"
    }
   ],
   "source": [
    "# Reading shopping data\n",
    "X_train = pd.read_csv('layoffs.csv')\n",
    "df = X_train.copy()\n",
    "df.head()"
   ],
   "metadata": {
    "collapsed": false
   }
  },
  {
   "cell_type": "code",
   "execution_count": 3,
   "outputs": [],
   "source": [],
   "metadata": {
    "collapsed": false
   }
  },
  {
   "cell_type": "code",
   "execution_count": 3,
   "outputs": [],
   "source": [],
   "metadata": {
    "collapsed": false
   }
  }
 ],
 "metadata": {
  "kernelspec": {
   "display_name": "Python 3",
   "language": "python",
   "name": "python3"
  },
  "language_info": {
   "codemirror_mode": {
    "name": "ipython",
    "version": 2
   },
   "file_extension": ".py",
   "mimetype": "text/x-python",
   "name": "python",
   "nbconvert_exporter": "python",
   "pygments_lexer": "ipython2",
   "version": "2.7.6"
  }
 },
 "nbformat": 4,
 "nbformat_minor": 0
}
