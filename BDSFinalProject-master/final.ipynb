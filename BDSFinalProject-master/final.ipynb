{
 "cells": [
  {
   "cell_type": "code",
   "execution_count": 16,
   "metadata": {
    "collapsed": true
   },
   "outputs": [],
   "source": [
    "import pandas as pd\n"
   ]
  },
  {
   "cell_type": "code",
   "execution_count": 17,
   "outputs": [
    {
     "data": {
      "text/plain": "    company        location industry  total_laid_off  percentage_laid_off  \\\n0     Lemon    Buenos Aires   Crypto             NaN                 0.38   \n1    Assure  Salt Lake City  Finance             NaN                 1.00   \n2  GoodGood         Toronto   Retail             NaN                 1.00   \n3    SIRCLO         Jakarta   Retail           160.0                 0.08   \n4      Trax       Singapore   Retail            80.0                 0.08   \n\n         date     stage        country  funds_raised  \n0  2022-11-24  Series A      Argentina          17.0  \n1  2022-11-23      Seed  United States           2.0  \n2  2022-11-23      Seed         Canada           6.0  \n3  2022-11-22  Series B      Indonesia          92.0  \n4  2022-11-22  Series E      Singapore        1000.0  ",
      "text/html": "<div>\n<style scoped>\n    .dataframe tbody tr th:only-of-type {\n        vertical-align: middle;\n    }\n\n    .dataframe tbody tr th {\n        vertical-align: top;\n    }\n\n    .dataframe thead th {\n        text-align: right;\n    }\n</style>\n<table border=\"1\" class=\"dataframe\">\n  <thead>\n    <tr style=\"text-align: right;\">\n      <th></th>\n      <th>company</th>\n      <th>location</th>\n      <th>industry</th>\n      <th>total_laid_off</th>\n      <th>percentage_laid_off</th>\n      <th>date</th>\n      <th>stage</th>\n      <th>country</th>\n      <th>funds_raised</th>\n    </tr>\n  </thead>\n  <tbody>\n    <tr>\n      <th>0</th>\n      <td>Lemon</td>\n      <td>Buenos Aires</td>\n      <td>Crypto</td>\n      <td>NaN</td>\n      <td>0.38</td>\n      <td>2022-11-24</td>\n      <td>Series A</td>\n      <td>Argentina</td>\n      <td>17.0</td>\n    </tr>\n    <tr>\n      <th>1</th>\n      <td>Assure</td>\n      <td>Salt Lake City</td>\n      <td>Finance</td>\n      <td>NaN</td>\n      <td>1.00</td>\n      <td>2022-11-23</td>\n      <td>Seed</td>\n      <td>United States</td>\n      <td>2.0</td>\n    </tr>\n    <tr>\n      <th>2</th>\n      <td>GoodGood</td>\n      <td>Toronto</td>\n      <td>Retail</td>\n      <td>NaN</td>\n      <td>1.00</td>\n      <td>2022-11-23</td>\n      <td>Seed</td>\n      <td>Canada</td>\n      <td>6.0</td>\n    </tr>\n    <tr>\n      <th>3</th>\n      <td>SIRCLO</td>\n      <td>Jakarta</td>\n      <td>Retail</td>\n      <td>160.0</td>\n      <td>0.08</td>\n      <td>2022-11-22</td>\n      <td>Series B</td>\n      <td>Indonesia</td>\n      <td>92.0</td>\n    </tr>\n    <tr>\n      <th>4</th>\n      <td>Trax</td>\n      <td>Singapore</td>\n      <td>Retail</td>\n      <td>80.0</td>\n      <td>0.08</td>\n      <td>2022-11-22</td>\n      <td>Series E</td>\n      <td>Singapore</td>\n      <td>1000.0</td>\n    </tr>\n  </tbody>\n</table>\n</div>"
     },
     "execution_count": 17,
     "metadata": {},
     "output_type": "execute_result"
    }
   ],
   "source": [
    "# Reading data\n",
    "X_train = pd.read_csv('layoffs.csv')\n",
    "df = X_train.copy()\n",
    "df.head()"
   ],
   "metadata": {
    "collapsed": false
   }
  },
  {
   "cell_type": "code",
   "execution_count": 18,
   "outputs": [
    {
     "data": {
      "text/plain": "company                  0\nlocation                 0\nindustry                 3\ntotal_laid_off         486\npercentage_laid_off    550\ndate                     0\nstage                    4\ncountry                  0\nfunds_raised           116\ndtype: int64"
     },
     "execution_count": 18,
     "metadata": {},
     "output_type": "execute_result"
    }
   ],
   "source": [
    "df.isna().sum()"
   ],
   "metadata": {
    "collapsed": false
   }
  },
  {
   "cell_type": "code",
   "execution_count": 19,
   "outputs": [],
   "source": [
    "df.total_laid_off = df.total_laid_off.fillna(0)\n",
    "df.industry = df.industry.fillna(0)\n",
    "df.stage = df.stage.fillna(0)\n",
    "df.funds_raised = df.funds_raised.fillna(0)\n",
    "df.percentage_laid_off = df.percentage_laid_off.fillna(0)\n"
   ],
   "metadata": {
    "collapsed": false
   }
  },
  {
   "cell_type": "code",
   "execution_count": 20,
   "outputs": [
    {
     "data": {
      "text/plain": "company                0\nlocation               0\nindustry               0\ntotal_laid_off         0\npercentage_laid_off    0\ndate                   0\nstage                  0\ncountry                0\nfunds_raised           0\ndtype: int64"
     },
     "execution_count": 20,
     "metadata": {},
     "output_type": "execute_result"
    }
   ],
   "source": [
    "df.isna().sum()"
   ],
   "metadata": {
    "collapsed": false
   }
  }
 ],
 "metadata": {
  "kernelspec": {
   "display_name": "Python 3",
   "language": "python",
   "name": "python3"
  },
  "language_info": {
   "codemirror_mode": {
    "name": "ipython",
    "version": 2
   },
   "file_extension": ".py",
   "mimetype": "text/x-python",
   "name": "python",
   "nbconvert_exporter": "python",
   "pygments_lexer": "ipython2",
   "version": "2.7.6"
  }
 },
 "nbformat": 4,
 "nbformat_minor": 0
}
