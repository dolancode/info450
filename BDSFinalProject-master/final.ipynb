{
 "cells": [
  {
   "cell_type": "code",
   "execution_count": 1,
   "metadata": {
    "collapsed": true
   },
   "outputs": [],
   "source": [
    "import pandas as pd\n"
   ]
  },
  {
   "cell_type": "code",
   "execution_count": 2,
   "outputs": [
    {
     "data": {
      "text/plain": "    company        location industry  total_laid_off  percentage_laid_off  \\\n0     Lemon    Buenos Aires   Crypto             NaN                 0.38   \n1    Assure  Salt Lake City  Finance             NaN                 1.00   \n2  GoodGood         Toronto   Retail             NaN                 1.00   \n3    SIRCLO         Jakarta   Retail           160.0                 0.08   \n4      Trax       Singapore   Retail            80.0                 0.08   \n\n         date     stage        country  funds_raised  \n0  2022-11-24  Series A      Argentina          17.0  \n1  2022-11-23      Seed  United States           2.0  \n2  2022-11-23      Seed         Canada           6.0  \n3  2022-11-22  Series B      Indonesia          92.0  \n4  2022-11-22  Series E      Singapore        1000.0  ",
      "text/html": "<div>\n<style scoped>\n    .dataframe tbody tr th:only-of-type {\n        vertical-align: middle;\n    }\n\n    .dataframe tbody tr th {\n        vertical-align: top;\n    }\n\n    .dataframe thead th {\n        text-align: right;\n    }\n</style>\n<table border=\"1\" class=\"dataframe\">\n  <thead>\n    <tr style=\"text-align: right;\">\n      <th></th>\n      <th>company</th>\n      <th>location</th>\n      <th>industry</th>\n      <th>total_laid_off</th>\n      <th>percentage_laid_off</th>\n      <th>date</th>\n      <th>stage</th>\n      <th>country</th>\n      <th>funds_raised</th>\n    </tr>\n  </thead>\n  <tbody>\n    <tr>\n      <th>0</th>\n      <td>Lemon</td>\n      <td>Buenos Aires</td>\n      <td>Crypto</td>\n      <td>NaN</td>\n      <td>0.38</td>\n      <td>2022-11-24</td>\n      <td>Series A</td>\n      <td>Argentina</td>\n      <td>17.0</td>\n    </tr>\n    <tr>\n      <th>1</th>\n      <td>Assure</td>\n      <td>Salt Lake City</td>\n      <td>Finance</td>\n      <td>NaN</td>\n      <td>1.00</td>\n      <td>2022-11-23</td>\n      <td>Seed</td>\n      <td>United States</td>\n      <td>2.0</td>\n    </tr>\n    <tr>\n      <th>2</th>\n      <td>GoodGood</td>\n      <td>Toronto</td>\n      <td>Retail</td>\n      <td>NaN</td>\n      <td>1.00</td>\n      <td>2022-11-23</td>\n      <td>Seed</td>\n      <td>Canada</td>\n      <td>6.0</td>\n    </tr>\n    <tr>\n      <th>3</th>\n      <td>SIRCLO</td>\n      <td>Jakarta</td>\n      <td>Retail</td>\n      <td>160.0</td>\n      <td>0.08</td>\n      <td>2022-11-22</td>\n      <td>Series B</td>\n      <td>Indonesia</td>\n      <td>92.0</td>\n    </tr>\n    <tr>\n      <th>4</th>\n      <td>Trax</td>\n      <td>Singapore</td>\n      <td>Retail</td>\n      <td>80.0</td>\n      <td>0.08</td>\n      <td>2022-11-22</td>\n      <td>Series E</td>\n      <td>Singapore</td>\n      <td>1000.0</td>\n    </tr>\n  </tbody>\n</table>\n</div>"
     },
     "execution_count": 2,
     "metadata": {},
     "output_type": "execute_result"
    }
   ],
   "source": [
    "# Reading data\n",
    "X_train = pd.read_csv('layoffs.csv')\n",
    "df = X_train.copy()\n",
    "df.head()"
   ],
   "metadata": {
    "collapsed": false
   }
  },
  {
   "cell_type": "code",
   "execution_count": 3,
   "outputs": [
    {
     "data": {
      "text/plain": "            company        location        industry  total_laid_off  \\\n0             Lemon    Buenos Aires          Crypto             0.0   \n1            Assure  Salt Lake City         Finance             0.0   \n2          GoodGood         Toronto          Retail             0.0   \n3            SIRCLO         Jakarta          Retail           160.0   \n4              Trax       Singapore          Retail            80.0   \n...             ...             ...             ...             ...   \n1660        Service     Los Angeles          Travel             0.0   \n1661   HopSkipDrive     Los Angeles  Transportation             8.0   \n1662    Panda Squad     SF Bay Area        Consumer             6.0   \n1663  Tamara Mellon     Los Angeles          Retail            20.0   \n1664       EasyPost  Salt Lake City       Logistics            75.0   \n\n      percentage_laid_off        date     stage        country  funds_raised  \n0                    0.38  2022-11-24  Series A      Argentina          17.0  \n1                    1.00  2022-11-23      Seed  United States           2.0  \n2                    1.00  2022-11-23      Seed         Canada           6.0  \n3                    0.08  2022-11-22  Series B      Indonesia          92.0  \n4                    0.08  2022-11-22  Series E      Singapore        1000.0  \n...                   ...         ...       ...            ...           ...  \n1660                 1.00  2020-03-16      Seed  United States           5.1  \n1661                 0.10  2020-03-13   Unknown  United States          45.0  \n1662                 0.75  2020-03-13      Seed  United States           1.0  \n1663                 0.40  2020-03-12  Series C  United States          90.0  \n1664                  NaN  2020-03-11  Series A  United States          12.0  \n\n[1665 rows x 9 columns]",
      "text/html": "<div>\n<style scoped>\n    .dataframe tbody tr th:only-of-type {\n        vertical-align: middle;\n    }\n\n    .dataframe tbody tr th {\n        vertical-align: top;\n    }\n\n    .dataframe thead th {\n        text-align: right;\n    }\n</style>\n<table border=\"1\" class=\"dataframe\">\n  <thead>\n    <tr style=\"text-align: right;\">\n      <th></th>\n      <th>company</th>\n      <th>location</th>\n      <th>industry</th>\n      <th>total_laid_off</th>\n      <th>percentage_laid_off</th>\n      <th>date</th>\n      <th>stage</th>\n      <th>country</th>\n      <th>funds_raised</th>\n    </tr>\n  </thead>\n  <tbody>\n    <tr>\n      <th>0</th>\n      <td>Lemon</td>\n      <td>Buenos Aires</td>\n      <td>Crypto</td>\n      <td>0.0</td>\n      <td>0.38</td>\n      <td>2022-11-24</td>\n      <td>Series A</td>\n      <td>Argentina</td>\n      <td>17.0</td>\n    </tr>\n    <tr>\n      <th>1</th>\n      <td>Assure</td>\n      <td>Salt Lake City</td>\n      <td>Finance</td>\n      <td>0.0</td>\n      <td>1.00</td>\n      <td>2022-11-23</td>\n      <td>Seed</td>\n      <td>United States</td>\n      <td>2.0</td>\n    </tr>\n    <tr>\n      <th>2</th>\n      <td>GoodGood</td>\n      <td>Toronto</td>\n      <td>Retail</td>\n      <td>0.0</td>\n      <td>1.00</td>\n      <td>2022-11-23</td>\n      <td>Seed</td>\n      <td>Canada</td>\n      <td>6.0</td>\n    </tr>\n    <tr>\n      <th>3</th>\n      <td>SIRCLO</td>\n      <td>Jakarta</td>\n      <td>Retail</td>\n      <td>160.0</td>\n      <td>0.08</td>\n      <td>2022-11-22</td>\n      <td>Series B</td>\n      <td>Indonesia</td>\n      <td>92.0</td>\n    </tr>\n    <tr>\n      <th>4</th>\n      <td>Trax</td>\n      <td>Singapore</td>\n      <td>Retail</td>\n      <td>80.0</td>\n      <td>0.08</td>\n      <td>2022-11-22</td>\n      <td>Series E</td>\n      <td>Singapore</td>\n      <td>1000.0</td>\n    </tr>\n    <tr>\n      <th>...</th>\n      <td>...</td>\n      <td>...</td>\n      <td>...</td>\n      <td>...</td>\n      <td>...</td>\n      <td>...</td>\n      <td>...</td>\n      <td>...</td>\n      <td>...</td>\n    </tr>\n    <tr>\n      <th>1660</th>\n      <td>Service</td>\n      <td>Los Angeles</td>\n      <td>Travel</td>\n      <td>0.0</td>\n      <td>1.00</td>\n      <td>2020-03-16</td>\n      <td>Seed</td>\n      <td>United States</td>\n      <td>5.1</td>\n    </tr>\n    <tr>\n      <th>1661</th>\n      <td>HopSkipDrive</td>\n      <td>Los Angeles</td>\n      <td>Transportation</td>\n      <td>8.0</td>\n      <td>0.10</td>\n      <td>2020-03-13</td>\n      <td>Unknown</td>\n      <td>United States</td>\n      <td>45.0</td>\n    </tr>\n    <tr>\n      <th>1662</th>\n      <td>Panda Squad</td>\n      <td>SF Bay Area</td>\n      <td>Consumer</td>\n      <td>6.0</td>\n      <td>0.75</td>\n      <td>2020-03-13</td>\n      <td>Seed</td>\n      <td>United States</td>\n      <td>1.0</td>\n    </tr>\n    <tr>\n      <th>1663</th>\n      <td>Tamara Mellon</td>\n      <td>Los Angeles</td>\n      <td>Retail</td>\n      <td>20.0</td>\n      <td>0.40</td>\n      <td>2020-03-12</td>\n      <td>Series C</td>\n      <td>United States</td>\n      <td>90.0</td>\n    </tr>\n    <tr>\n      <th>1664</th>\n      <td>EasyPost</td>\n      <td>Salt Lake City</td>\n      <td>Logistics</td>\n      <td>75.0</td>\n      <td>NaN</td>\n      <td>2020-03-11</td>\n      <td>Series A</td>\n      <td>United States</td>\n      <td>12.0</td>\n    </tr>\n  </tbody>\n</table>\n<p>1665 rows × 9 columns</p>\n</div>"
     },
     "execution_count": 3,
     "metadata": {},
     "output_type": "execute_result"
    }
   ],
   "source": [
    "df.total_laid_off = df.total_laid_off.fillna(0)\n",
    "df"
   ],
   "metadata": {
    "collapsed": false
   }
  }
 ],
 "metadata": {
  "kernelspec": {
   "display_name": "Python 3",
   "language": "python",
   "name": "python3"
  },
  "language_info": {
   "codemirror_mode": {
    "name": "ipython",
    "version": 2
   },
   "file_extension": ".py",
   "mimetype": "text/x-python",
   "name": "python",
   "nbconvert_exporter": "python",
   "pygments_lexer": "ipython2",
   "version": "2.7.6"
  }
 },
 "nbformat": 4,
 "nbformat_minor": 0
}
