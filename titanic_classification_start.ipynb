{
 "nbformat": 4,
 "nbformat_minor": 0,
 "metadata": {
  "colab": {
   "provenance": [
    {
     "file_id": "1RyxxHSXIXz38QZEw49M2vzP9Zn8oE-6D",
     "timestamp": 1663872135244
    },
    {
     "file_id": "1T0f4NxfSlrnk8ybbV5OIG1J9o2vXnm6t",
     "timestamp": 1663188932081
    }
   ],
   "collapsed_sections": [],
   "authorship_tag": "ABX9TyMs+N7DegWFHUbwdnTn7xcx"
  },
  "kernelspec": {
   "name": "python3",
   "display_name": "Python 3"
  },
  "language_info": {
   "name": "python"
  }
 },
 "cells": [
  {
   "cell_type": "markdown",
   "source": [
    "# Titanic Survival Classification"
   ],
   "metadata": {
    "id": "yEKmqQ11EYoA"
   }
  },
  {
   "cell_type": "markdown",
   "source": [
    "Connect to Google Drive."
   ],
   "metadata": {
    "id": "2NA_9evpLZM_"
   }
  },
  {
   "cell_type": "markdown",
   "source": [],
   "metadata": {
    "collapsed": false
   }
  },
  {
   "cell_type": "code",
   "execution_count": null,
   "metadata": {
    "id": "vrDMaVOX5cdU",
    "collapsed": true
   },
   "outputs": [],
   "source": [
    "from google.colab import drive\n",
    "drive.mount('/content/drive')\n",
    "##dont need this chunk"
   ]
  },
  {
   "cell_type": "markdown",
   "source": [
    "Import pandas, seaborn, and matplotlib."
   ],
   "metadata": {
    "id": "mn7fPfaMEckf"
   }
  },
  {
   "cell_type": "code",
   "source": [
    "import pandas as pd\n",
    "from sklearn import metrics\n",
    "from sklearn.linear_model import LogisticRegression\n",
    "from sklearn.tree import DecisionTreeClassifier"
   ],
   "metadata": {
    "id": "ytR66kXR5yiv"
   },
   "execution_count": 4,
   "outputs": [
    {
     "ename": "ModuleNotFoundError",
     "evalue": "No module named 'sklearn'",
     "output_type": "error",
     "traceback": [
      "\u001B[0;31m---------------------------------------------------------------------------\u001B[0m",
      "\u001B[0;31mModuleNotFoundError\u001B[0m                       Traceback (most recent call last)",
      "Cell \u001B[0;32mIn [4], line 2\u001B[0m\n\u001B[1;32m      1\u001B[0m \u001B[38;5;28;01mimport\u001B[39;00m \u001B[38;5;21;01mpandas\u001B[39;00m \u001B[38;5;28;01mas\u001B[39;00m \u001B[38;5;21;01mpd\u001B[39;00m\n\u001B[0;32m----> 2\u001B[0m \u001B[38;5;28;01mfrom\u001B[39;00m \u001B[38;5;21;01msklearn\u001B[39;00m \u001B[38;5;28;01mimport\u001B[39;00m metrics\n\u001B[1;32m      3\u001B[0m \u001B[38;5;28;01mfrom\u001B[39;00m \u001B[38;5;21;01msklearn\u001B[39;00m\u001B[38;5;21;01m.\u001B[39;00m\u001B[38;5;21;01mlinear_model\u001B[39;00m \u001B[38;5;28;01mimport\u001B[39;00m LogisticRegression\n\u001B[1;32m      4\u001B[0m \u001B[38;5;28;01mfrom\u001B[39;00m \u001B[38;5;21;01msklearn\u001B[39;00m\u001B[38;5;21;01m.\u001B[39;00m\u001B[38;5;21;01mtree\u001B[39;00m \u001B[38;5;28;01mimport\u001B[39;00m DecisionTreeClassifier\n",
      "\u001B[0;31mModuleNotFoundError\u001B[0m: No module named 'sklearn'"
     ]
    }
   ]
  },
  {
   "cell_type": "markdown",
   "source": [
    "Read the train data.  "
   ],
   "metadata": {
    "id": "hNUG4-YvEgWw"
   }
  },
  {
   "cell_type": "code",
   "source": [
    "train_data = pd.read_csv(\"train.csv\",\n",
    "                     sep=\",\",  # delimiter\n",
    "                     header=0, # header in first row\n",
    "                     index_col=0 # ids in first column\n",
    "                     )\n",
    "train_data.head()"
   ],
   "metadata": {
    "id": "tdiO_Ru25-uP"
   },
   "execution_count": 5,
   "outputs": [
    {
     "data": {
      "text/plain": "             Survived  Pclass  \\\nPassengerId                     \n1                   0       3   \n2                   1       1   \n3                   1       3   \n4                   1       1   \n5                   0       3   \n\n                                                          Name     Sex   Age  \\\nPassengerId                                                                    \n1                                      Braund, Mr. Owen Harris    male  22.0   \n2            Cumings, Mrs. John Bradley (Florence Briggs Th...  female  38.0   \n3                                       Heikkinen, Miss. Laina  female  26.0   \n4                 Futrelle, Mrs. Jacques Heath (Lily May Peel)  female  35.0   \n5                                     Allen, Mr. William Henry    male  35.0   \n\n             SibSp  Parch            Ticket     Fare Cabin Embarked  \nPassengerId                                                          \n1                1      0         A/5 21171   7.2500   NaN        S  \n2                1      0          PC 17599  71.2833   C85        C  \n3                0      0  STON/O2. 3101282   7.9250   NaN        S  \n4                1      0            113803  53.1000  C123        S  \n5                0      0            373450   8.0500   NaN        S  ",
      "text/html": "<div>\n<style scoped>\n    .dataframe tbody tr th:only-of-type {\n        vertical-align: middle;\n    }\n\n    .dataframe tbody tr th {\n        vertical-align: top;\n    }\n\n    .dataframe thead th {\n        text-align: right;\n    }\n</style>\n<table border=\"1\" class=\"dataframe\">\n  <thead>\n    <tr style=\"text-align: right;\">\n      <th></th>\n      <th>Survived</th>\n      <th>Pclass</th>\n      <th>Name</th>\n      <th>Sex</th>\n      <th>Age</th>\n      <th>SibSp</th>\n      <th>Parch</th>\n      <th>Ticket</th>\n      <th>Fare</th>\n      <th>Cabin</th>\n      <th>Embarked</th>\n    </tr>\n    <tr>\n      <th>PassengerId</th>\n      <th></th>\n      <th></th>\n      <th></th>\n      <th></th>\n      <th></th>\n      <th></th>\n      <th></th>\n      <th></th>\n      <th></th>\n      <th></th>\n      <th></th>\n    </tr>\n  </thead>\n  <tbody>\n    <tr>\n      <th>1</th>\n      <td>0</td>\n      <td>3</td>\n      <td>Braund, Mr. Owen Harris</td>\n      <td>male</td>\n      <td>22.0</td>\n      <td>1</td>\n      <td>0</td>\n      <td>A/5 21171</td>\n      <td>7.2500</td>\n      <td>NaN</td>\n      <td>S</td>\n    </tr>\n    <tr>\n      <th>2</th>\n      <td>1</td>\n      <td>1</td>\n      <td>Cumings, Mrs. John Bradley (Florence Briggs Th...</td>\n      <td>female</td>\n      <td>38.0</td>\n      <td>1</td>\n      <td>0</td>\n      <td>PC 17599</td>\n      <td>71.2833</td>\n      <td>C85</td>\n      <td>C</td>\n    </tr>\n    <tr>\n      <th>3</th>\n      <td>1</td>\n      <td>3</td>\n      <td>Heikkinen, Miss. Laina</td>\n      <td>female</td>\n      <td>26.0</td>\n      <td>0</td>\n      <td>0</td>\n      <td>STON/O2. 3101282</td>\n      <td>7.9250</td>\n      <td>NaN</td>\n      <td>S</td>\n    </tr>\n    <tr>\n      <th>4</th>\n      <td>1</td>\n      <td>1</td>\n      <td>Futrelle, Mrs. Jacques Heath (Lily May Peel)</td>\n      <td>female</td>\n      <td>35.0</td>\n      <td>1</td>\n      <td>0</td>\n      <td>113803</td>\n      <td>53.1000</td>\n      <td>C123</td>\n      <td>S</td>\n    </tr>\n    <tr>\n      <th>5</th>\n      <td>0</td>\n      <td>3</td>\n      <td>Allen, Mr. William Henry</td>\n      <td>male</td>\n      <td>35.0</td>\n      <td>0</td>\n      <td>0</td>\n      <td>373450</td>\n      <td>8.0500</td>\n      <td>NaN</td>\n      <td>S</td>\n    </tr>\n  </tbody>\n</table>\n</div>"
     },
     "execution_count": 5,
     "metadata": {},
     "output_type": "execute_result"
    }
   ]
  },
  {
   "cell_type": "markdown",
   "source": [
    "Read the test data."
   ],
   "metadata": {
    "id": "OoU2ZJBOxgS8"
   }
  },
  {
   "cell_type": "code",
   "source": [
    "test_data = pd.read_csv(\"test.csv\",\n",
    "                     sep=\",\",  # delimiter\n",
    "                     header=0, # header in first row\n",
    "                     index_col=0 # ids in first column\n",
    "                     )"
   ],
   "metadata": {
    "id": "nacfQfeGxiRh"
   },
   "execution_count": 6,
   "outputs": []
  },
  {
   "cell_type": "markdown",
   "source": [
    "Check the train data for missingess, levels, etc."
   ],
   "metadata": {
    "id": "-1ptU2Yvyn-L"
   }
  },
  {
   "cell_type": "code",
   "source": [
    "train_data.describe(include=\"all\")"
   ],
   "metadata": {
    "id": "3orvJFGeyqqc"
   },
   "execution_count": 7,
   "outputs": [
    {
     "data": {
      "text/plain": "          Survived      Pclass                     Name   Sex         Age  \\\ncount   891.000000  891.000000                      891   891  714.000000   \nunique         NaN         NaN                      891     2         NaN   \ntop            NaN         NaN  Braund, Mr. Owen Harris  male         NaN   \nfreq           NaN         NaN                        1   577         NaN   \nmean      0.383838    2.308642                      NaN   NaN   29.699118   \nstd       0.486592    0.836071                      NaN   NaN   14.526497   \nmin       0.000000    1.000000                      NaN   NaN    0.420000   \n25%       0.000000    2.000000                      NaN   NaN   20.125000   \n50%       0.000000    3.000000                      NaN   NaN   28.000000   \n75%       1.000000    3.000000                      NaN   NaN   38.000000   \nmax       1.000000    3.000000                      NaN   NaN   80.000000   \n\n             SibSp       Parch  Ticket        Fare    Cabin Embarked  \ncount   891.000000  891.000000     891  891.000000      204      889  \nunique         NaN         NaN     681         NaN      147        3  \ntop            NaN         NaN  347082         NaN  B96 B98        S  \nfreq           NaN         NaN       7         NaN        4      644  \nmean      0.523008    0.381594     NaN   32.204208      NaN      NaN  \nstd       1.102743    0.806057     NaN   49.693429      NaN      NaN  \nmin       0.000000    0.000000     NaN    0.000000      NaN      NaN  \n25%       0.000000    0.000000     NaN    7.910400      NaN      NaN  \n50%       0.000000    0.000000     NaN   14.454200      NaN      NaN  \n75%       1.000000    0.000000     NaN   31.000000      NaN      NaN  \nmax       8.000000    6.000000     NaN  512.329200      NaN      NaN  ",
      "text/html": "<div>\n<style scoped>\n    .dataframe tbody tr th:only-of-type {\n        vertical-align: middle;\n    }\n\n    .dataframe tbody tr th {\n        vertical-align: top;\n    }\n\n    .dataframe thead th {\n        text-align: right;\n    }\n</style>\n<table border=\"1\" class=\"dataframe\">\n  <thead>\n    <tr style=\"text-align: right;\">\n      <th></th>\n      <th>Survived</th>\n      <th>Pclass</th>\n      <th>Name</th>\n      <th>Sex</th>\n      <th>Age</th>\n      <th>SibSp</th>\n      <th>Parch</th>\n      <th>Ticket</th>\n      <th>Fare</th>\n      <th>Cabin</th>\n      <th>Embarked</th>\n    </tr>\n  </thead>\n  <tbody>\n    <tr>\n      <th>count</th>\n      <td>891.000000</td>\n      <td>891.000000</td>\n      <td>891</td>\n      <td>891</td>\n      <td>714.000000</td>\n      <td>891.000000</td>\n      <td>891.000000</td>\n      <td>891</td>\n      <td>891.000000</td>\n      <td>204</td>\n      <td>889</td>\n    </tr>\n    <tr>\n      <th>unique</th>\n      <td>NaN</td>\n      <td>NaN</td>\n      <td>891</td>\n      <td>2</td>\n      <td>NaN</td>\n      <td>NaN</td>\n      <td>NaN</td>\n      <td>681</td>\n      <td>NaN</td>\n      <td>147</td>\n      <td>3</td>\n    </tr>\n    <tr>\n      <th>top</th>\n      <td>NaN</td>\n      <td>NaN</td>\n      <td>Braund, Mr. Owen Harris</td>\n      <td>male</td>\n      <td>NaN</td>\n      <td>NaN</td>\n      <td>NaN</td>\n      <td>347082</td>\n      <td>NaN</td>\n      <td>B96 B98</td>\n      <td>S</td>\n    </tr>\n    <tr>\n      <th>freq</th>\n      <td>NaN</td>\n      <td>NaN</td>\n      <td>1</td>\n      <td>577</td>\n      <td>NaN</td>\n      <td>NaN</td>\n      <td>NaN</td>\n      <td>7</td>\n      <td>NaN</td>\n      <td>4</td>\n      <td>644</td>\n    </tr>\n    <tr>\n      <th>mean</th>\n      <td>0.383838</td>\n      <td>2.308642</td>\n      <td>NaN</td>\n      <td>NaN</td>\n      <td>29.699118</td>\n      <td>0.523008</td>\n      <td>0.381594</td>\n      <td>NaN</td>\n      <td>32.204208</td>\n      <td>NaN</td>\n      <td>NaN</td>\n    </tr>\n    <tr>\n      <th>std</th>\n      <td>0.486592</td>\n      <td>0.836071</td>\n      <td>NaN</td>\n      <td>NaN</td>\n      <td>14.526497</td>\n      <td>1.102743</td>\n      <td>0.806057</td>\n      <td>NaN</td>\n      <td>49.693429</td>\n      <td>NaN</td>\n      <td>NaN</td>\n    </tr>\n    <tr>\n      <th>min</th>\n      <td>0.000000</td>\n      <td>1.000000</td>\n      <td>NaN</td>\n      <td>NaN</td>\n      <td>0.420000</td>\n      <td>0.000000</td>\n      <td>0.000000</td>\n      <td>NaN</td>\n      <td>0.000000</td>\n      <td>NaN</td>\n      <td>NaN</td>\n    </tr>\n    <tr>\n      <th>25%</th>\n      <td>0.000000</td>\n      <td>2.000000</td>\n      <td>NaN</td>\n      <td>NaN</td>\n      <td>20.125000</td>\n      <td>0.000000</td>\n      <td>0.000000</td>\n      <td>NaN</td>\n      <td>7.910400</td>\n      <td>NaN</td>\n      <td>NaN</td>\n    </tr>\n    <tr>\n      <th>50%</th>\n      <td>0.000000</td>\n      <td>3.000000</td>\n      <td>NaN</td>\n      <td>NaN</td>\n      <td>28.000000</td>\n      <td>0.000000</td>\n      <td>0.000000</td>\n      <td>NaN</td>\n      <td>14.454200</td>\n      <td>NaN</td>\n      <td>NaN</td>\n    </tr>\n    <tr>\n      <th>75%</th>\n      <td>1.000000</td>\n      <td>3.000000</td>\n      <td>NaN</td>\n      <td>NaN</td>\n      <td>38.000000</td>\n      <td>1.000000</td>\n      <td>0.000000</td>\n      <td>NaN</td>\n      <td>31.000000</td>\n      <td>NaN</td>\n      <td>NaN</td>\n    </tr>\n    <tr>\n      <th>max</th>\n      <td>1.000000</td>\n      <td>3.000000</td>\n      <td>NaN</td>\n      <td>NaN</td>\n      <td>80.000000</td>\n      <td>8.000000</td>\n      <td>6.000000</td>\n      <td>NaN</td>\n      <td>512.329200</td>\n      <td>NaN</td>\n      <td>NaN</td>\n    </tr>\n  </tbody>\n</table>\n</div>"
     },
     "execution_count": 7,
     "metadata": {},
     "output_type": "execute_result"
    }
   ]
  },
  {
   "cell_type": "markdown",
   "source": [
    "Check the test data for missingness, levels, etc."
   ],
   "metadata": {
    "id": "2UqFXltEyBwr"
   }
  },
  {
   "cell_type": "code",
   "source": [
    "test_data.describe(include=\"all\")"
   ],
   "metadata": {
    "id": "iGo72KmzyBCS"
   },
   "execution_count": 8,
   "outputs": [
    {
     "data": {
      "text/plain": "            Pclass              Name   Sex         Age       SibSp  \\\ncount   418.000000               418   418  332.000000  418.000000   \nunique         NaN               418     2         NaN         NaN   \ntop            NaN  Kelly, Mr. James  male         NaN         NaN   \nfreq           NaN                 1   266         NaN         NaN   \nmean      2.265550               NaN   NaN   30.272590    0.447368   \nstd       0.841838               NaN   NaN   14.181209    0.896760   \nmin       1.000000               NaN   NaN    0.170000    0.000000   \n25%       1.000000               NaN   NaN   21.000000    0.000000   \n50%       3.000000               NaN   NaN   27.000000    0.000000   \n75%       3.000000               NaN   NaN   39.000000    1.000000   \nmax       3.000000               NaN   NaN   76.000000    8.000000   \n\n             Parch    Ticket        Fare            Cabin Embarked  \ncount   418.000000       418  417.000000               91      418  \nunique         NaN       363         NaN               76        3  \ntop            NaN  PC 17608         NaN  B57 B59 B63 B66        S  \nfreq           NaN         5         NaN                3      270  \nmean      0.392344       NaN   35.627188              NaN      NaN  \nstd       0.981429       NaN   55.907576              NaN      NaN  \nmin       0.000000       NaN    0.000000              NaN      NaN  \n25%       0.000000       NaN    7.895800              NaN      NaN  \n50%       0.000000       NaN   14.454200              NaN      NaN  \n75%       0.000000       NaN   31.500000              NaN      NaN  \nmax       9.000000       NaN  512.329200              NaN      NaN  ",
      "text/html": "<div>\n<style scoped>\n    .dataframe tbody tr th:only-of-type {\n        vertical-align: middle;\n    }\n\n    .dataframe tbody tr th {\n        vertical-align: top;\n    }\n\n    .dataframe thead th {\n        text-align: right;\n    }\n</style>\n<table border=\"1\" class=\"dataframe\">\n  <thead>\n    <tr style=\"text-align: right;\">\n      <th></th>\n      <th>Pclass</th>\n      <th>Name</th>\n      <th>Sex</th>\n      <th>Age</th>\n      <th>SibSp</th>\n      <th>Parch</th>\n      <th>Ticket</th>\n      <th>Fare</th>\n      <th>Cabin</th>\n      <th>Embarked</th>\n    </tr>\n  </thead>\n  <tbody>\n    <tr>\n      <th>count</th>\n      <td>418.000000</td>\n      <td>418</td>\n      <td>418</td>\n      <td>332.000000</td>\n      <td>418.000000</td>\n      <td>418.000000</td>\n      <td>418</td>\n      <td>417.000000</td>\n      <td>91</td>\n      <td>418</td>\n    </tr>\n    <tr>\n      <th>unique</th>\n      <td>NaN</td>\n      <td>418</td>\n      <td>2</td>\n      <td>NaN</td>\n      <td>NaN</td>\n      <td>NaN</td>\n      <td>363</td>\n      <td>NaN</td>\n      <td>76</td>\n      <td>3</td>\n    </tr>\n    <tr>\n      <th>top</th>\n      <td>NaN</td>\n      <td>Kelly, Mr. James</td>\n      <td>male</td>\n      <td>NaN</td>\n      <td>NaN</td>\n      <td>NaN</td>\n      <td>PC 17608</td>\n      <td>NaN</td>\n      <td>B57 B59 B63 B66</td>\n      <td>S</td>\n    </tr>\n    <tr>\n      <th>freq</th>\n      <td>NaN</td>\n      <td>1</td>\n      <td>266</td>\n      <td>NaN</td>\n      <td>NaN</td>\n      <td>NaN</td>\n      <td>5</td>\n      <td>NaN</td>\n      <td>3</td>\n      <td>270</td>\n    </tr>\n    <tr>\n      <th>mean</th>\n      <td>2.265550</td>\n      <td>NaN</td>\n      <td>NaN</td>\n      <td>30.272590</td>\n      <td>0.447368</td>\n      <td>0.392344</td>\n      <td>NaN</td>\n      <td>35.627188</td>\n      <td>NaN</td>\n      <td>NaN</td>\n    </tr>\n    <tr>\n      <th>std</th>\n      <td>0.841838</td>\n      <td>NaN</td>\n      <td>NaN</td>\n      <td>14.181209</td>\n      <td>0.896760</td>\n      <td>0.981429</td>\n      <td>NaN</td>\n      <td>55.907576</td>\n      <td>NaN</td>\n      <td>NaN</td>\n    </tr>\n    <tr>\n      <th>min</th>\n      <td>1.000000</td>\n      <td>NaN</td>\n      <td>NaN</td>\n      <td>0.170000</td>\n      <td>0.000000</td>\n      <td>0.000000</td>\n      <td>NaN</td>\n      <td>0.000000</td>\n      <td>NaN</td>\n      <td>NaN</td>\n    </tr>\n    <tr>\n      <th>25%</th>\n      <td>1.000000</td>\n      <td>NaN</td>\n      <td>NaN</td>\n      <td>21.000000</td>\n      <td>0.000000</td>\n      <td>0.000000</td>\n      <td>NaN</td>\n      <td>7.895800</td>\n      <td>NaN</td>\n      <td>NaN</td>\n    </tr>\n    <tr>\n      <th>50%</th>\n      <td>3.000000</td>\n      <td>NaN</td>\n      <td>NaN</td>\n      <td>27.000000</td>\n      <td>0.000000</td>\n      <td>0.000000</td>\n      <td>NaN</td>\n      <td>14.454200</td>\n      <td>NaN</td>\n      <td>NaN</td>\n    </tr>\n    <tr>\n      <th>75%</th>\n      <td>3.000000</td>\n      <td>NaN</td>\n      <td>NaN</td>\n      <td>39.000000</td>\n      <td>1.000000</td>\n      <td>0.000000</td>\n      <td>NaN</td>\n      <td>31.500000</td>\n      <td>NaN</td>\n      <td>NaN</td>\n    </tr>\n    <tr>\n      <th>max</th>\n      <td>3.000000</td>\n      <td>NaN</td>\n      <td>NaN</td>\n      <td>76.000000</td>\n      <td>8.000000</td>\n      <td>9.000000</td>\n      <td>NaN</td>\n      <td>512.329200</td>\n      <td>NaN</td>\n      <td>NaN</td>\n    </tr>\n  </tbody>\n</table>\n</div>"
     },
     "execution_count": 8,
     "metadata": {},
     "output_type": "execute_result"
    }
   ]
  },
  {
   "cell_type": "markdown",
   "source": [
    "Select columns and create dummies.\n"
   ],
   "metadata": {
    "id": "JrmC1VPkEmj9"
   }
  },
  {
   "cell_type": "code",
   "source": [
    "predictors = [\"Pclass\",\n",
    "              \"Sex\",  \n",
    "              \"Age\",  \n",
    "              \"SibSp\",  \n",
    "              \"Parch\",  \n",
    "              \"Fare\",  \n",
    "              \"Embarked\"]\n",
    "\n",
    "X_train = pd.get_dummies(train_data[predictors],\n",
    "               drop_first=True)\n",
    "y_train = train_data[\"Survived\"]\n",
    "\n",
    "X_test = pd.get_dummies(test_data[predictors],\n",
    "               drop_first=True)"
   ],
   "metadata": {
    "id": "RzzHyQmCDGSs"
   },
   "execution_count": 9,
   "outputs": []
  },
  {
   "cell_type": "markdown",
   "source": [
    "Replace missing values with the means from the training data."
   ],
   "metadata": {
    "id": "PMHD6YvTRPds"
   }
  },
  {
   "cell_type": "code",
   "source": [
    "train_means = X_train.mean()\n",
    "\n",
    "X_train = X_train.fillna(train_means)\n",
    "X_test = X_test.fillna(train_means)"
   ],
   "metadata": {
    "id": "_gA3CJ22RO1R"
   },
   "execution_count": 11,
   "outputs": []
  },
  {
   "cell_type": "markdown",
   "source": [
    "Fit logistic regression model and calculate accuracy using the train data."
   ],
   "metadata": {
    "id": "aeb8AyarGSNF"
   }
  },
  {
   "cell_type": "code",
   "source": [
    "my_lr = LogisticRegression(max_iter=400).fit(X_train, y_train)\n",
    "lr_pred_train = my_lr.predict(X_train)\n",
    "metrics.accuracy_score(y_train, lr_pred_train)"
   ],
   "metadata": {
    "id": "fXbaeNHpEzRX"
   },
   "execution_count": 12,
   "outputs": [
    {
     "ename": "NameError",
     "evalue": "name 'LogisticRegression' is not defined",
     "output_type": "error",
     "traceback": [
      "\u001B[0;31m---------------------------------------------------------------------------\u001B[0m",
      "\u001B[0;31mNameError\u001B[0m                                 Traceback (most recent call last)",
      "Cell \u001B[0;32mIn [12], line 1\u001B[0m\n\u001B[0;32m----> 1\u001B[0m my_lr \u001B[38;5;241m=\u001B[39m \u001B[43mLogisticRegression\u001B[49m(max_iter\u001B[38;5;241m=\u001B[39m\u001B[38;5;241m400\u001B[39m)\u001B[38;5;241m.\u001B[39mfit(X_train, y_train)\n\u001B[1;32m      2\u001B[0m lr_pred_train \u001B[38;5;241m=\u001B[39m my_lr\u001B[38;5;241m.\u001B[39mpredict(X_train)\n\u001B[1;32m      3\u001B[0m metrics\u001B[38;5;241m.\u001B[39maccuracy_score(y_train, lr_pred_train)\n",
      "\u001B[0;31mNameError\u001B[0m: name 'LogisticRegression' is not defined"
     ]
    }
   ]
  },
  {
   "cell_type": "markdown",
   "source": [
    "Create confusion matrix."
   ],
   "metadata": {
    "id": "nQyLY_aMcA7v"
   }
  },
  {
   "cell_type": "code",
   "source": [
    "metrics.confusion_matrix(y_train, lr_pred_train)"
   ],
   "metadata": {
    "id": "CkkJVRaeVAIn"
   },
   "execution_count": null,
   "outputs": []
  },
  {
   "cell_type": "markdown",
   "source": [
    "Make predictions using test data."
   ],
   "metadata": {
    "id": "TFaynlDbcIj4"
   }
  },
  {
   "cell_type": "code",
   "source": [
    "lr_pred_test = my_lr.predict(X_test)"
   ],
   "metadata": {
    "id": "5W5LqdvEWx8X"
   },
   "execution_count": null,
   "outputs": []
  },
  {
   "cell_type": "markdown",
   "source": [
    "Format predictions for output and write to csv."
   ],
   "metadata": {
    "id": "asqbQUdjdhCA"
   }
  },
  {
   "cell_type": "code",
   "source": [
    "lr_output = pd.DataFrame(lr_pred_test,\n",
    "                      index=X_test.index,\n",
    "                      columns=[\"Survived\"])\n",
    "lr_output.to_csv(\"/content/drive/MyDrive/320/lr_pred.csv\")"
   ],
   "metadata": {
    "id": "78MNYHyEXf3a"
   },
   "execution_count": null,
   "outputs": []
  },
  {
   "cell_type": "markdown",
   "source": [
    "Fit decision tree model and calculate accuracy on the train data."
   ],
   "metadata": {
    "id": "LptgO64UhlkH"
   }
  },
  {
   "cell_type": "code",
   "source": [
    "my_tree = DecisionTreeClassifier().fit(X_train, y_train)\n",
    "tree_pred_train = my_tree.predict(X_train)\n",
    "metrics.accuracy_score(y_train, tree_pred_train)"
   ],
   "metadata": {
    "id": "DGM3RZ6xY2sW"
   },
   "execution_count": null,
   "outputs": []
  },
  {
   "cell_type": "markdown",
   "source": [
    "Create confusion matrix for the train data."
   ],
   "metadata": {
    "id": "9lmFCVTNmGX-"
   }
  },
  {
   "cell_type": "code",
   "source": [
    "pd.DataFrame(metrics.confusion_matrix(y_train, tree_pred_train, normalize=\"true\"))"
   ],
   "metadata": {
    "id": "ztHuL5W4iXbS"
   },
   "execution_count": null,
   "outputs": []
  },
  {
   "cell_type": "markdown",
   "source": [
    "Make predictions using test data."
   ],
   "metadata": {
    "id": "yq-OA4eSkM4S"
   }
  },
  {
   "cell_type": "code",
   "source": [
    "tree_pred_test = my_tree.predict(X_test)"
   ],
   "metadata": {
    "id": "jeFboHFakRFD"
   },
   "execution_count": null,
   "outputs": []
  },
  {
   "cell_type": "markdown",
   "source": [
    "Format predictions for output and write to csv."
   ],
   "metadata": {
    "id": "Ap50H-k1kyAU"
   }
  },
  {
   "cell_type": "code",
   "source": [
    "tree_output = pd.DataFrame(tree_pred_test,\n",
    "                      index=X_test.index,\n",
    "                      columns=[\"Survived\"])\n",
    "tree_output.to_csv(\"/content/drive/MyDrive/320/tree_pred.csv\")"
   ],
   "metadata": {
    "id": "ch5AXMfMkBNu"
   },
   "execution_count": null,
   "outputs": []
  },
  {
   "cell_type": "code",
   "source": [],
   "metadata": {
    "id": "WRrGDt6GkHtQ"
   },
   "execution_count": null,
   "outputs": []
  }
 ]
}
