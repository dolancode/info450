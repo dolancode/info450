{
 "nbformat": 4,
 "nbformat_minor": 0,
 "metadata": {
  "colab": {
   "provenance": [
    {
     "file_id": "1RyxxHSXIXz38QZEw49M2vzP9Zn8oE-6D",
     "timestamp": 1663872135244
    },
    {
     "file_id": "1T0f4NxfSlrnk8ybbV5OIG1J9o2vXnm6t",
     "timestamp": 1663188932081
    }
   ],
   "collapsed_sections": [],
   "authorship_tag": "ABX9TyMs+N7DegWFHUbwdnTn7xcx"
  },
  "kernelspec": {
   "name": "python3",
   "display_name": "Python 3"
  },
  "language_info": {
   "name": "python"
  }
 },
 "cells": [
  {
   "cell_type": "markdown",
   "source": [
    "# Titanic Survival Classification"
   ],
   "metadata": {
    "id": "yEKmqQ11EYoA"
   }
  },
  {
   "cell_type": "markdown",
   "source": [
    "Connect to Google Drive."
   ],
   "metadata": {
    "id": "2NA_9evpLZM_"
   }
  },
  {
   "cell_type": "markdown",
   "source": [],
   "metadata": {
    "collapsed": false
   }
  },
  {
   "cell_type": "code",
   "execution_count": 40,
   "metadata": {
    "id": "vrDMaVOX5cdU",
    "collapsed": true
   },
   "outputs": [
    {
     "ename": "ModuleNotFoundError",
     "evalue": "No module named 'google'",
     "output_type": "error",
     "traceback": [
      "\u001B[0;31m---------------------------------------------------------------------------\u001B[0m",
      "\u001B[0;31mModuleNotFoundError\u001B[0m                       Traceback (most recent call last)",
      "Cell \u001B[0;32mIn [40], line 1\u001B[0m\n\u001B[0;32m----> 1\u001B[0m \u001B[38;5;28;01mfrom\u001B[39;00m \u001B[38;5;21;01mgoogle\u001B[39;00m\u001B[38;5;21;01m.\u001B[39;00m\u001B[38;5;21;01mcolab\u001B[39;00m \u001B[38;5;28;01mimport\u001B[39;00m drive\n\u001B[1;32m      2\u001B[0m drive\u001B[38;5;241m.\u001B[39mmount(\u001B[38;5;124m'\u001B[39m\u001B[38;5;124m/content/drive\u001B[39m\u001B[38;5;124m'\u001B[39m)\n",
      "\u001B[0;31mModuleNotFoundError\u001B[0m: No module named 'google'"
     ]
    }
   ],
   "source": [
    "from google.colab import drive\n",
    "drive.mount('/content/drive')\n",
    "##dont need this chunk"
   ]
  },
  {
   "cell_type": "markdown",
   "source": [
    "Import pandas, seaborn, and matplotlib."
   ],
   "metadata": {
    "id": "mn7fPfaMEckf"
   }
  },
  {
   "cell_type": "code",
   "source": [
    "import pandas as pd\n",
    "from sklearn import metrics\n",
    "from sklearn.linear_model import LogisticRegression\n",
    "from sklearn.tree import DecisionTreeClassifier"
   ],
   "metadata": {
    "id": "ytR66kXR5yiv"
   },
   "execution_count": null,
   "outputs": []
  },
  {
   "cell_type": "markdown",
   "source": [
    "Read the train data.  "
   ],
   "metadata": {
    "id": "hNUG4-YvEgWw"
   }
  },
  {
   "cell_type": "code",
   "source": [
    "train_data = pd.read_csv(\"train.csv\",\n",
    "                     sep=\",\",  # delimiter\n",
    "                     header=0, # header in first row\n",
    "                     index_col=0 # ids in first column\n",
    "                     )\n",
    "train_data.head()"
   ],
   "metadata": {
    "id": "tdiO_Ru25-uP"
   },
   "execution_count": 55,
   "outputs": [
    {
     "data": {
      "text/plain": "             Survived  Pclass  \\\nPassengerId                     \n1                   0       3   \n2                   1       1   \n3                   1       3   \n4                   1       1   \n5                   0       3   \n\n                                                          Name     Sex   Age  \\\nPassengerId                                                                    \n1                                      Braund, Mr. Owen Harris    male  22.0   \n2            Cumings, Mrs. John Bradley (Florence Briggs Th...  female  38.0   \n3                                       Heikkinen, Miss. Laina  female  26.0   \n4                 Futrelle, Mrs. Jacques Heath (Lily May Peel)  female  35.0   \n5                                     Allen, Mr. William Henry    male  35.0   \n\n             SibSp  Parch            Ticket     Fare Cabin Embarked  \nPassengerId                                                          \n1                1      0         A/5 21171   7.2500   NaN        S  \n2                1      0          PC 17599  71.2833   C85        C  \n3                0      0  STON/O2. 3101282   7.9250   NaN        S  \n4                1      0            113803  53.1000  C123        S  \n5                0      0            373450   8.0500   NaN        S  ",
      "text/html": "<div>\n<style scoped>\n    .dataframe tbody tr th:only-of-type {\n        vertical-align: middle;\n    }\n\n    .dataframe tbody tr th {\n        vertical-align: top;\n    }\n\n    .dataframe thead th {\n        text-align: right;\n    }\n</style>\n<table border=\"1\" class=\"dataframe\">\n  <thead>\n    <tr style=\"text-align: right;\">\n      <th></th>\n      <th>Survived</th>\n      <th>Pclass</th>\n      <th>Name</th>\n      <th>Sex</th>\n      <th>Age</th>\n      <th>SibSp</th>\n      <th>Parch</th>\n      <th>Ticket</th>\n      <th>Fare</th>\n      <th>Cabin</th>\n      <th>Embarked</th>\n    </tr>\n    <tr>\n      <th>PassengerId</th>\n      <th></th>\n      <th></th>\n      <th></th>\n      <th></th>\n      <th></th>\n      <th></th>\n      <th></th>\n      <th></th>\n      <th></th>\n      <th></th>\n      <th></th>\n    </tr>\n  </thead>\n  <tbody>\n    <tr>\n      <th>1</th>\n      <td>0</td>\n      <td>3</td>\n      <td>Braund, Mr. Owen Harris</td>\n      <td>male</td>\n      <td>22.0</td>\n      <td>1</td>\n      <td>0</td>\n      <td>A/5 21171</td>\n      <td>7.2500</td>\n      <td>NaN</td>\n      <td>S</td>\n    </tr>\n    <tr>\n      <th>2</th>\n      <td>1</td>\n      <td>1</td>\n      <td>Cumings, Mrs. John Bradley (Florence Briggs Th...</td>\n      <td>female</td>\n      <td>38.0</td>\n      <td>1</td>\n      <td>0</td>\n      <td>PC 17599</td>\n      <td>71.2833</td>\n      <td>C85</td>\n      <td>C</td>\n    </tr>\n    <tr>\n      <th>3</th>\n      <td>1</td>\n      <td>3</td>\n      <td>Heikkinen, Miss. Laina</td>\n      <td>female</td>\n      <td>26.0</td>\n      <td>0</td>\n      <td>0</td>\n      <td>STON/O2. 3101282</td>\n      <td>7.9250</td>\n      <td>NaN</td>\n      <td>S</td>\n    </tr>\n    <tr>\n      <th>4</th>\n      <td>1</td>\n      <td>1</td>\n      <td>Futrelle, Mrs. Jacques Heath (Lily May Peel)</td>\n      <td>female</td>\n      <td>35.0</td>\n      <td>1</td>\n      <td>0</td>\n      <td>113803</td>\n      <td>53.1000</td>\n      <td>C123</td>\n      <td>S</td>\n    </tr>\n    <tr>\n      <th>5</th>\n      <td>0</td>\n      <td>3</td>\n      <td>Allen, Mr. William Henry</td>\n      <td>male</td>\n      <td>35.0</td>\n      <td>0</td>\n      <td>0</td>\n      <td>373450</td>\n      <td>8.0500</td>\n      <td>NaN</td>\n      <td>S</td>\n    </tr>\n  </tbody>\n</table>\n</div>"
     },
     "execution_count": 55,
     "metadata": {},
     "output_type": "execute_result"
    }
   ]
  },
  {
   "cell_type": "markdown",
   "source": [
    "Read the test data."
   ],
   "metadata": {
    "id": "OoU2ZJBOxgS8"
   }
  },
  {
   "cell_type": "code",
   "source": [
    "test_data = pd.read_csv(\"test.csv\",\n",
    "                     sep=\",\",  # delimiter\n",
    "                     header=0, # header in first row\n",
    "                     index_col=0 # ids in first column\n",
    "                     )\n",
    "test_data.head()"
   ],
   "metadata": {
    "id": "nacfQfeGxiRh"
   },
   "execution_count": null,
   "outputs": []
  },
  {
   "cell_type": "markdown",
   "source": [
    "Check the train data for missingess, levels, etc."
   ],
   "metadata": {
    "id": "-1ptU2Yvyn-L"
   }
  },
  {
   "cell_type": "code",
   "source": [
    "train_data.describe(include=\"all\")"
   ],
   "metadata": {
    "id": "3orvJFGeyqqc"
   },
   "execution_count": null,
   "outputs": []
  },
  {
   "cell_type": "markdown",
   "source": [
    "Check the test data for missingness, levels, etc."
   ],
   "metadata": {
    "id": "2UqFXltEyBwr"
   }
  },
  {
   "cell_type": "code",
   "source": [
    "test_data.describe(include=\"all\")"
   ],
   "metadata": {
    "id": "iGo72KmzyBCS"
   },
   "execution_count": null,
   "outputs": []
  },
  {
   "cell_type": "markdown",
   "source": [
    "Select columns and create dummies.\n"
   ],
   "metadata": {
    "id": "JrmC1VPkEmj9"
   }
  },
  {
   "cell_type": "code",
   "source": [
    "\n",
    "predictors = [\"Pclass\",\n",
    "              \"Sex\",  \n",
    "              \"Age\",  \n",
    "              \"SibSp\",  \n",
    "              \"Parch\",  \n",
    "              \"Fare\",  \n",
    "              \"Embarked\"]\n",
    "X_train = pd.get_dummies(train_data[predictors],\n",
    "               drop_first=True)\n",
    "y_train = train_data[\"Survived\"]\n",
    "\n",
    "X_test = pd.get_dummies(test_data[predictors],\n",
    "               drop_first=True)\n",
    "X_train.head()\n",
    "X_train.describe()\n"
   ],
   "metadata": {
    "id": "RzzHyQmCDGSs"
   },
   "execution_count": 42,
   "outputs": [
    {
     "data": {
      "text/plain": "           Pclass         Age       SibSp       Parch        Fare    Sex_male  \\\ncount  891.000000  714.000000  891.000000  891.000000  891.000000  891.000000   \nmean     2.308642   29.699118    0.523008    0.381594   32.204208    0.647587   \nstd      0.836071   14.526497    1.102743    0.806057   49.693429    0.477990   \nmin      1.000000    0.420000    0.000000    0.000000    0.000000    0.000000   \n25%      2.000000   20.125000    0.000000    0.000000    7.910400    0.000000   \n50%      3.000000   28.000000    0.000000    0.000000   14.454200    1.000000   \n75%      3.000000   38.000000    1.000000    0.000000   31.000000    1.000000   \nmax      3.000000   80.000000    8.000000    6.000000  512.329200    1.000000   \n\n       Embarked_Q  Embarked_S  \ncount  891.000000  891.000000  \nmean     0.086420    0.722783  \nstd      0.281141    0.447876  \nmin      0.000000    0.000000  \n25%      0.000000    0.000000  \n50%      0.000000    1.000000  \n75%      0.000000    1.000000  \nmax      1.000000    1.000000  ",
      "text/html": "<div>\n<style scoped>\n    .dataframe tbody tr th:only-of-type {\n        vertical-align: middle;\n    }\n\n    .dataframe tbody tr th {\n        vertical-align: top;\n    }\n\n    .dataframe thead th {\n        text-align: right;\n    }\n</style>\n<table border=\"1\" class=\"dataframe\">\n  <thead>\n    <tr style=\"text-align: right;\">\n      <th></th>\n      <th>Pclass</th>\n      <th>Age</th>\n      <th>SibSp</th>\n      <th>Parch</th>\n      <th>Fare</th>\n      <th>Sex_male</th>\n      <th>Embarked_Q</th>\n      <th>Embarked_S</th>\n    </tr>\n  </thead>\n  <tbody>\n    <tr>\n      <th>count</th>\n      <td>891.000000</td>\n      <td>714.000000</td>\n      <td>891.000000</td>\n      <td>891.000000</td>\n      <td>891.000000</td>\n      <td>891.000000</td>\n      <td>891.000000</td>\n      <td>891.000000</td>\n    </tr>\n    <tr>\n      <th>mean</th>\n      <td>2.308642</td>\n      <td>29.699118</td>\n      <td>0.523008</td>\n      <td>0.381594</td>\n      <td>32.204208</td>\n      <td>0.647587</td>\n      <td>0.086420</td>\n      <td>0.722783</td>\n    </tr>\n    <tr>\n      <th>std</th>\n      <td>0.836071</td>\n      <td>14.526497</td>\n      <td>1.102743</td>\n      <td>0.806057</td>\n      <td>49.693429</td>\n      <td>0.477990</td>\n      <td>0.281141</td>\n      <td>0.447876</td>\n    </tr>\n    <tr>\n      <th>min</th>\n      <td>1.000000</td>\n      <td>0.420000</td>\n      <td>0.000000</td>\n      <td>0.000000</td>\n      <td>0.000000</td>\n      <td>0.000000</td>\n      <td>0.000000</td>\n      <td>0.000000</td>\n    </tr>\n    <tr>\n      <th>25%</th>\n      <td>2.000000</td>\n      <td>20.125000</td>\n      <td>0.000000</td>\n      <td>0.000000</td>\n      <td>7.910400</td>\n      <td>0.000000</td>\n      <td>0.000000</td>\n      <td>0.000000</td>\n    </tr>\n    <tr>\n      <th>50%</th>\n      <td>3.000000</td>\n      <td>28.000000</td>\n      <td>0.000000</td>\n      <td>0.000000</td>\n      <td>14.454200</td>\n      <td>1.000000</td>\n      <td>0.000000</td>\n      <td>1.000000</td>\n    </tr>\n    <tr>\n      <th>75%</th>\n      <td>3.000000</td>\n      <td>38.000000</td>\n      <td>1.000000</td>\n      <td>0.000000</td>\n      <td>31.000000</td>\n      <td>1.000000</td>\n      <td>0.000000</td>\n      <td>1.000000</td>\n    </tr>\n    <tr>\n      <th>max</th>\n      <td>3.000000</td>\n      <td>80.000000</td>\n      <td>8.000000</td>\n      <td>6.000000</td>\n      <td>512.329200</td>\n      <td>1.000000</td>\n      <td>1.000000</td>\n      <td>1.000000</td>\n    </tr>\n  </tbody>\n</table>\n</div>"
     },
     "execution_count": 42,
     "metadata": {},
     "output_type": "execute_result"
    }
   ]
  },
  {
   "cell_type": "markdown",
   "source": [
    "Replace missing values with the means from the training data."
   ],
   "metadata": {
    "id": "PMHD6YvTRPds"
   }
  },
  {
   "cell_type": "code",
   "source": [
    "train_means = X_train.mean()\n",
    "#train_means\n",
    "\n",
    "X_train = X_train.fillna(train_means)\n",
    "#X_train.describe()\n",
    "#X_train.shape\n",
    "\n",
    "X_test = X_test.fillna(train_means)\n",
    "#X_test.describe()"
   ],
   "metadata": {
    "id": "_gA3CJ22RO1R"
   },
   "execution_count": 43,
   "outputs": []
  },
  {
   "cell_type": "markdown",
   "source": [
    "Fit logistic regression model and calculate accuracy using the train data."
   ],
   "metadata": {
    "id": "aeb8AyarGSNF"
   }
  },
  {
   "cell_type": "code",
   "source": [
    "my_lr = LogisticRegression(max_iter=400).fit(X_train, y_train)\n",
    "lr_pred_train = my_lr.predict(X_train)\n",
    "metrics.accuracy_score(y_train, lr_pred_train)"
   ],
   "metadata": {
    "id": "fXbaeNHpEzRX"
   },
   "execution_count": 44,
   "outputs": [
    {
     "data": {
      "text/plain": "0.8013468013468014"
     },
     "execution_count": 44,
     "metadata": {},
     "output_type": "execute_result"
    }
   ]
  },
  {
   "cell_type": "markdown",
   "source": [
    "Create confusion matrix."
   ],
   "metadata": {
    "id": "nQyLY_aMcA7v"
   }
  },
  {
   "cell_type": "code",
   "source": [
    "metrics.confusion_matrix(y_train, lr_pred_train)"
   ],
   "metadata": {
    "id": "CkkJVRaeVAIn"
   },
   "execution_count": 45,
   "outputs": [
    {
     "data": {
      "text/plain": "array([[474,  75],\n       [102, 240]])"
     },
     "execution_count": 45,
     "metadata": {},
     "output_type": "execute_result"
    }
   ]
  },
  {
   "cell_type": "markdown",
   "source": [
    "Make predictions using test data."
   ],
   "metadata": {
    "id": "TFaynlDbcIj4"
   }
  },
  {
   "cell_type": "code",
   "source": [
    "lr_pred_test = my_lr.predict(X_test)"
   ],
   "metadata": {
    "id": "5W5LqdvEWx8X"
   },
   "execution_count": 48,
   "outputs": []
  },
  {
   "cell_type": "markdown",
   "source": [
    "Format predictions for output and write to csv."
   ],
   "metadata": {
    "id": "asqbQUdjdhCA"
   }
  },
  {
   "cell_type": "code",
   "source": [
    "lr_output = pd.DataFrame(lr_pred_test,\n",
    "                      index=X_test.index,\n",
    "                      columns=[\"Survived\"])\n",
    "lr_output.to_csv(\"_lr_pred.csv\")"
   ],
   "metadata": {
    "id": "78MNYHyEXf3a"
   },
   "execution_count": 53,
   "outputs": []
  },
  {
   "cell_type": "markdown",
   "source": [
    "Fit decision tree model and calculate accuracy on the train data."
   ],
   "metadata": {
    "id": "LptgO64UhlkH"
   }
  },
  {
   "cell_type": "code",
   "source": [
    "my_tree = DecisionTreeClassifier().fit(X_train, y_train)\n",
    "tree_pred_train = my_tree.predict(X_train)\n",
    "metrics.accuracy_score(y_train, tree_pred_train)"
   ],
   "metadata": {
    "id": "DGM3RZ6xY2sW"
   },
   "execution_count": 49,
   "outputs": [
    {
     "data": {
      "text/plain": "0.9820426487093153"
     },
     "execution_count": 49,
     "metadata": {},
     "output_type": "execute_result"
    }
   ]
  },
  {
   "cell_type": "markdown",
   "source": [
    "Create confusion matrix for the train data."
   ],
   "metadata": {
    "id": "9lmFCVTNmGX-"
   }
  },
  {
   "cell_type": "code",
   "source": [
    "pd.DataFrame(metrics.confusion_matrix(y_train, tree_pred_train, normalize=\"true\"))"
   ],
   "metadata": {
    "id": "ztHuL5W4iXbS"
   },
   "execution_count": 50,
   "outputs": [
    {
     "data": {
      "text/plain": "          0         1\n0  0.996357  0.003643\n1  0.040936  0.959064",
      "text/html": "<div>\n<style scoped>\n    .dataframe tbody tr th:only-of-type {\n        vertical-align: middle;\n    }\n\n    .dataframe tbody tr th {\n        vertical-align: top;\n    }\n\n    .dataframe thead th {\n        text-align: right;\n    }\n</style>\n<table border=\"1\" class=\"dataframe\">\n  <thead>\n    <tr style=\"text-align: right;\">\n      <th></th>\n      <th>0</th>\n      <th>1</th>\n    </tr>\n  </thead>\n  <tbody>\n    <tr>\n      <th>0</th>\n      <td>0.996357</td>\n      <td>0.003643</td>\n    </tr>\n    <tr>\n      <th>1</th>\n      <td>0.040936</td>\n      <td>0.959064</td>\n    </tr>\n  </tbody>\n</table>\n</div>"
     },
     "execution_count": 50,
     "metadata": {},
     "output_type": "execute_result"
    }
   ]
  },
  {
   "cell_type": "markdown",
   "source": [
    "Make predictions using test data."
   ],
   "metadata": {
    "id": "yq-OA4eSkM4S"
   }
  },
  {
   "cell_type": "code",
   "source": [
    "tree_pred_test = my_tree.predict(X_test)"
   ],
   "metadata": {
    "id": "jeFboHFakRFD"
   },
   "execution_count": 51,
   "outputs": []
  },
  {
   "cell_type": "markdown",
   "source": [
    "Format predictions for output and write to csv."
   ],
   "metadata": {
    "id": "Ap50H-k1kyAU"
   }
  },
  {
   "cell_type": "code",
   "source": [
    "tree_output = pd.DataFrame(tree_pred_test,\n",
    "                      index=X_test.index,\n",
    "                      columns=[\"Survived\"])\n",
    "tree_output.to_csv(\"tree_pred.csv\")"
   ],
   "metadata": {
    "id": "ch5AXMfMkBNu"
   },
   "execution_count": 54,
   "outputs": []
  },
  {
   "cell_type": "code",
   "source": [],
   "metadata": {
    "id": "WRrGDt6GkHtQ"
   },
   "execution_count": null,
   "outputs": []
  }
 ]
}
