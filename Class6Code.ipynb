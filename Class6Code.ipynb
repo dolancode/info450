{
 "cells": [
  {
   "cell_type": "markdown",
   "metadata": {
    "pycharm": {
     "name": "#%% md\n"
    }
   },
   "source": [
    "# 1. Functions"
   ]
  },
  {
   "cell_type": "markdown",
   "metadata": {
    "pycharm": {
     "name": "#%% md\n"
    }
   },
   "source": [
    "## Write and invoke a function which:\n",
    "1. receives as input two integers\n",
    "\n",
    "2. returns the sum, the difference, and the products of the two integers\n",
    "\n",
    "3. main program prints the outputs of the function\n"
   ]
  },
  {
   "cell_type": "code",
   "execution_count": null,
   "metadata": {
    "pycharm": {
     "name": "#%%\n"
    }
   },
   "outputs": [],
   "source": []
  },
  {
   "cell_type": "code",
   "execution_count": null,
   "metadata": {
    "pycharm": {
     "name": "#%%\n"
    }
   },
   "outputs": [],
   "source": []
  },
  {
   "cell_type": "code",
   "execution_count": null,
   "metadata": {
    "pycharm": {
     "name": "#%%\n"
    }
   },
   "outputs": [],
   "source": [
    "def definePet(petName, petType = \"dog\"):\n",
    "    \"\"\"definePet displays information given about a pet.\n",
    "    Parameters: \n",
    "        \"petName\", which should be the name of a given pet\n",
    "        \"petType\", which should be the species of pet, default petType is dog. \n",
    "    \"\"\"\n",
    "    print(f\"\\nI have a {petType}.\")\n",
    "    print(f\"My {petType}'s name is {petName.title()}.\")"
   ]
  },
  {
   "cell_type": "markdown",
   "metadata": {
    "pycharm": {
     "name": "#%% md\n"
    }
   },
   "source": [
    "## _How would you define your pet or family's pet using the \"definePet\" function above?_"
   ]
  },
  {
   "cell_type": "code",
   "execution_count": null,
   "metadata": {
    "pycharm": {
     "name": "#%%\n"
    }
   },
   "outputs": [],
   "source": []
  },
  {
   "cell_type": "code",
   "execution_count": null,
   "metadata": {
    "pycharm": {
     "name": "#%%\n"
    }
   },
   "outputs": [],
   "source": [
    "def get_formatted_name(first_name, last_name):\n",
    "    \"\"\"Return a full name, neatly formatted\"\"\"\n",
    "    full_name = f\"{first_name} {last_name}\"\n",
    "    return full_name.title()\n"
   ]
  },
  {
   "cell_type": "code",
   "execution_count": null,
   "metadata": {
    "pycharm": {
     "name": "#%%\n"
    }
   },
   "outputs": [],
   "source": [
    "musician = get_formatted_name('jimi', 'hendrix') \n",
    "print(musician)"
   ]
  },
  {
   "cell_type": "markdown",
   "metadata": {
    "pycharm": {
     "name": "#%% md\n"
    }
   },
   "source": [
    "## _Why wouldn't we just print \"Jimi Hendrix\"? Why make a whole function?_"
   ]
  },
  {
   "cell_type": "markdown",
   "metadata": {
    "pycharm": {
     "name": "#%% md\n"
    }
   },
   "source": [
    "## Functions can return anything you want! Including returning MULTIPLE objects. Below, the function returns a dictionary\n"
   ]
  },
  {
   "cell_type": "code",
   "execution_count": null,
   "metadata": {
    "pycharm": {
     "name": "#%%\n"
    }
   },
   "outputs": [],
   "source": [
    "def build_person(first_name, last_name, age=None):\n",
    "    \"\"\"Return a dictionary of information about a person.\"\"\"\n",
    "    person = {'first': first_name, 'last': last_name}\n",
    "    if age:\n",
    "        person['age'] = age\n",
    "    return person\n"
   ]
  },
  {
   "cell_type": "code",
   "execution_count": null,
   "metadata": {
    "pycharm": {
     "name": "#%%\n"
    }
   },
   "outputs": [],
   "source": [
    "musician = build_person('jimi', 'hendrix', age=27)\n",
    "print(musician)"
   ]
  },
  {
   "cell_type": "markdown",
   "metadata": {
    "pycharm": {
     "name": "#%% md\n"
    }
   },
   "source": [
    "## Now the function returns the Dictionary \"person\" and \"age\" as a separate integer"
   ]
  },
  {
   "cell_type": "code",
   "execution_count": null,
   "metadata": {
    "pycharm": {
     "name": "#%%\n"
    }
   },
   "outputs": [],
   "source": [
    "def build_person(first_name, last_name, age=None):\n",
    "    \"\"\"Return a dictionary of information about a person.\"\"\"\n",
    "    person = {'first': first_name, 'last': last_name}\n",
    "    if age:\n",
    "        age = int(age)\n",
    "        person['age'] = age\n",
    "    \n",
    "    return person, age"
   ]
  },
  {
   "cell_type": "code",
   "execution_count": null,
   "metadata": {
    "pycharm": {
     "name": "#%%\n"
    }
   },
   "outputs": [],
   "source": [
    "musician = build_person('jimi', 'hendrix', age=27)\n",
    "print(type(musician[1]))"
   ]
  },
  {
   "cell_type": "code",
   "execution_count": null,
   "metadata": {
    "pycharm": {
     "name": "#%%\n"
    }
   },
   "outputs": [],
   "source": [
    "musician = build_person('jimi', 'hendrix')\n",
    "print(type(musician[1]))\n",
    "# No specified age means \"None\"type is passed to age"
   ]
  },
  {
   "cell_type": "markdown",
   "metadata": {
    "pycharm": {
     "name": "#%% md\n"
    }
   },
   "source": [
    "# 2. Global VS Local Variables"
   ]
  },
  {
   "cell_type": "code",
   "execution_count": null,
   "metadata": {
    "pycharm": {
     "name": "#%%\n"
    }
   },
   "outputs": [],
   "source": [
    "#Will this work?\n",
    "def function_name():\n",
    "\tx = 2\n",
    "\ty = 3\n",
    "\treturn x, y\n",
    "\n",
    "function_name()\n",
    "print(y)\n"
   ]
  },
  {
   "cell_type": "code",
   "execution_count": null,
   "metadata": {
    "pycharm": {
     "name": "#%%\n"
    }
   },
   "outputs": [],
   "source": [
    "y = 5\n",
    "def function_name():\n",
    "\tglobal y \n",
    "\ty = 72\n",
    "\tx = 3\n",
    "\treturn x, y\n",
    "\n",
    "x, y = function_name()\n",
    "print(y)\n"
   ]
  },
  {
   "cell_type": "code",
   "execution_count": null,
   "metadata": {
    "pycharm": {
     "name": "#%%\n"
    }
   },
   "outputs": [],
   "source": [
    "def outer():\n",
    "    first_num = 1\n",
    "    def inner():\n",
    "        second_num = 2\n",
    "        # Print statement 1 - Scope: Inner\n",
    "        print(\"first_num from outer: \", first_num)\n",
    "        # Print statement 2 - Scope: Inner\n",
    "        print(\"second_num from inner: \", second_num)\n",
    "    inner()\n",
    "    # Print statement 3 - Scope: Outer\n",
    "    print(\"second_num from inner: \", second_num)\n",
    "\n",
    "outer()\n"
   ]
  },
  {
   "cell_type": "markdown",
   "metadata": {
    "pycharm": {
     "name": "#%% md\n"
    }
   },
   "source": [
    "# 3. Lambda Functions"
   ]
  },
  {
   "cell_type": "code",
   "execution_count": null,
   "metadata": {
    "pycharm": {
     "name": "#%%\n"
    }
   },
   "outputs": [],
   "source": [
    "my_list = [1, 2, 3, 4, 5, 6]; \n",
    "my_dict = {\"mike\" : 5, \"susan\" : 8, \"teri\" : 10}\n",
    "\n",
    "#Common uses of Lambda functions\n",
    "#Filtering data: \n",
    "new_list = list(filter(lambda x: x % 2 == 0, my_list))\n",
    "#Mapping data: \n",
    "new_list = list(map(lambda x: x ** 3, my_list))\n",
    "#Sorting data: \n",
    "print(sorted(my_dict.items(), key = lambda x: x[1])\n"
   ]
  },
  {
   "cell_type": "markdown",
   "metadata": {
    "pycharm": {
     "name": "#%% md\n"
    }
   },
   "source": [
    "## _Write the one line to create a new list whose values are < 4_\n",
    "## _Write the one line to create a dictionary from my_dict. Sort the key-value pairs in descending order._\n"
   ]
  },
  {
   "cell_type": "code",
   "execution_count": null,
   "metadata": {
    "pycharm": {
     "name": "#%%\n"
    }
   },
   "outputs": [],
   "source": []
  },
  {
   "cell_type": "markdown",
   "metadata": {
    "pycharm": {
     "name": "#%% md\n"
    }
   },
   "source": [
    "# 4. Classes & Object Oriented Programming"
   ]
  },
  {
   "attachments": {
    "image.png": {
     "image/png": "[encoded data removed]"
    }
   },
   "cell_type": "markdown",
   "metadata": {
    "pycharm": {
     "name": "#%% md\n"
    }
   },
   "source": [
    "![image.png](attachment:image.png)"
   ]
  },
  {
   "cell_type": "markdown",
   "metadata": {
    "pycharm": {
     "name": "#%% md\n"
    }
   },
   "source": [
    "## Defining the \"super class\" \"Employee\""
   ]
  },
  {
   "cell_type": "code",
   "execution_count": null,
   "metadata": {
    "pycharm": {
     "name": "#%%\n"
    }
   },
   "outputs": [],
   "source": [
    "class Employee:\n",
    "    comp_name = \"FederalReserve\" #defines a variable used by all objects\n",
    "\n",
    "    def __init__(self, first, last, pay):   # special function – initiates the object with attributes\n",
    "        self.first = first\n",
    "        self.last = last\n",
    "        self.pay = pay\n",
    "\n",
    "    def email_address(self):  # defines a method\n",
    "        email  = self.first + \".\"  + self.last + \"@\" + self.comp_name + \".com\"\n",
    "        return email\n"
   ]
  },
  {
   "cell_type": "code",
   "execution_count": null,
   "metadata": {
    "pycharm": {
     "name": "#%%\n"
    }
   },
   "outputs": [],
   "source": [
    "# NOW create a class instance \"emp1\"\n",
    "emp1 = Employee(\"Alyssa\", \"Weinstein\", 1000000) #I obviously get paid 1 Million dollars a year\n",
    "print(emp1.email_address())\n"
   ]
  },
  {
   "cell_type": "markdown",
   "metadata": {
    "pycharm": {
     "name": "#%% md\n"
    }
   },
   "source": [
    "## Define the Subclass \"Manager\""
   ]
  },
  {
   "cell_type": "code",
   "execution_count": null,
   "metadata": {
    "pycharm": {
     "name": "#%%\n"
    }
   },
   "outputs": [],
   "source": [
    "class Manager(Employee): # states that Manager inherits from Employee\n",
    "    def __init__(self, first, last, pay, employees = None):\n",
    "        super().__init__(first, last, pay) # references the super class initialization function \n",
    "        if employees == None:  # default is the manager does not have any employees\n",
    "            self.employees = [] # set to a null list\n",
    "        else:\n",
    "            self.employees = employees # otherwise instantiate\n",
    "\n",
    "    def print_employees(self):\n",
    "        for emp in self.employees:\n",
    "            print(f\"{self.first} {self.last} supervises {emp}\")"
   ]
  },
  {
   "cell_type": "code",
   "execution_count": null,
   "metadata": {
    "pycharm": {
     "name": "#%%\n"
    }
   },
   "outputs": [],
   "source": [
    "alyssa_emps = [\"Joe\", \"Amit\", \"Sue\"]\n",
    "\n",
    "emp2 = Manager(\"Alyssa\", \"Weinstein\", 1000000, alyssa_emps)\n",
    "\n",
    "print(emp2.email_address())\n",
    "\n",
    "emp2.print_employees()\n"
   ]
  },
  {
   "cell_type": "code",
   "execution_count": null,
   "metadata": {
    "pycharm": {
     "name": "#%%\n"
    }
   },
   "outputs": [],
   "source": []
  }
 ],
 "metadata": {
  "kernelspec": {
   "display_name": "Python 3",
   "language": "python",
   "name": "python3"
  },
  "language_info": {
   "codemirror_mode": {
    "name": "ipython",
    "version": 3
   },
   "file_extension": ".py",
   "mimetype": "text/x-python",
   "name": "python",
   "nbconvert_exporter": "python",
   "pygments_lexer": "ipython3",
   "version": "3.7.4"
  }
 },
 "nbformat": 4,
 "nbformat_minor": 2
}