{
 "cells": [
  {
   "cell_type": "markdown",
   "metadata": {
    "pycharm": {
     "name": "#%% md\n"
    }
   },
   "source": [
    "# Dictionaries!"
   ]
  },
  {
   "cell_type": "code",
   "execution_count": 46,
   "metadata": {
    "pycharm": {
     "name": "#%%\n"
    }
   },
   "outputs": [],
   "source": [
    "#Defining an empty dictionary\n",
    "purse = dict() \n",
    "purse = {} \n"
   ]
  },
  {
   "cell_type": "code",
   "execution_count": 47,
   "metadata": {
    "pycharm": {
     "name": "#%%\n"
    }
   },
   "outputs": [
    {
     "name": "stdout",
     "output_type": "stream",
     "text": [
      "{'money': 12, 'candy': 1, 'tissues': 50}\n"
     ]
    }
   ],
   "source": [
    "#Creating new key-value pairs\n",
    "purse['money'] = 12\n",
    "purse['candy'] = 1\n",
    "purse['tissues'] = 50\n",
    "print(purse)   # result: {‘money’: 12, ‘candy’: 1, ‘tissues’:50}\n"
   ]
  },
  {
   "cell_type": "code",
   "execution_count": 48,
   "metadata": {
    "pycharm": {
     "name": "#%%\n"
    }
   },
   "outputs": [
    {
     "ename": "KeyError",
     "evalue": "'car-keys'",
     "output_type": "error",
     "traceback": [
      "\u001B[1;31m---------------------------------------------------------------------------\u001B[0m",
      "\u001B[1;31mKeyError\u001B[0m                                  Traceback (most recent call last)",
      "\u001B[1;32m<ipython-input-48-b3e7d165fb6d>\u001B[0m in \u001B[0;36m<module>\u001B[1;34m\u001B[0m\n\u001B[0;32m      2\u001B[0m \u001B[0mx\u001B[0m \u001B[1;33m=\u001B[0m \u001B[0mpurse\u001B[0m\u001B[1;33m[\u001B[0m\u001B[1;34m'money'\u001B[0m\u001B[1;33m]\u001B[0m   \u001B[1;31m# x is now equal to 12\u001B[0m\u001B[1;33m\u001B[0m\u001B[1;33m\u001B[0m\u001B[0m\n\u001B[0;32m      3\u001B[0m \u001B[1;31m#Note:  You will receive a run-time key error if the key does not exist\u001B[0m\u001B[1;33m\u001B[0m\u001B[1;33m\u001B[0m\u001B[1;33m\u001B[0m\u001B[0m\n\u001B[1;32m----> 4\u001B[1;33m \u001B[0my\u001B[0m \u001B[1;33m=\u001B[0m \u001B[0mpurse\u001B[0m\u001B[1;33m[\u001B[0m\u001B[1;34m'car-keys'\u001B[0m\u001B[1;33m]\u001B[0m \u001B[1;31m# will create an error\u001B[0m\u001B[1;33m\u001B[0m\u001B[1;33m\u001B[0m\u001B[0m\n\u001B[0m",
      "\u001B[1;31mKeyError\u001B[0m: 'car-keys'"
     ]
    }
   ],
   "source": [
    "#Use the key to access the value\n",
    "x = purse['money']   # x is now equal to 12\n",
    "#Note:  You will receive a run-time key error if the key does not exist\n",
    "y = purse['car-keys'] # will create an error"
   ]
  },
  {
   "cell_type": "code",
   "execution_count": 49,
   "metadata": {
    "pycharm": {
     "name": "#%%\n"
    }
   },
   "outputs": [],
   "source": [
    "#Checking if a key exists in the dictionary: in (and not in)\n",
    "if \"car_keys\" not in purse:\n",
    "    purse['car_keys'] = 1\n",
    "else:\n",
    "    purse['car_keys'] += 1\n"
   ]
  },
  {
   "cell_type": "code",
   "execution_count": 51,
   "metadata": {
    "pycharm": {
     "name": "#%%\n"
    }
   },
   "outputs": [
    {
     "name": "stdout",
     "output_type": "stream",
     "text": [
      "{'money': 12, 'candy': 1, 'tissues': 50, 'car_keys': 1}\n",
      "{'money': 12, 'candy': 10, 'tissues': 50, 'car_keys': 1}\n"
     ]
    }
   ],
   "source": [
    "# Dictionaries are mutable, but they MUST have unique keys. Non unique keys will result in over-writing of the original key\n",
    "\n",
    "print(purse)\n",
    "\n",
    "purse[\"candy\"] = 10\n",
    "\n",
    "print(purse)"
   ]
  },
  {
   "cell_type": "code",
   "execution_count": 52,
   "metadata": {
    "pycharm": {
     "name": "#%%\n"
    }
   },
   "outputs": [],
   "source": [
    "#Can also check using the get() command\n",
    "x = purse.get(\"aspirin\") # returns None if aspirin does not exist\n",
    "x = purse.get(\"aspirin\", False) # returns False if aspirin does not exist\n"
   ]
  },
  {
   "cell_type": "code",
   "execution_count": 53,
   "metadata": {
    "pycharm": {
     "name": "#%%\n"
    }
   },
   "outputs": [
    {
     "ename": "KeyError",
     "evalue": "'aspirin'",
     "output_type": "error",
     "traceback": [
      "\u001B[1;31m---------------------------------------------------------------------------\u001B[0m",
      "\u001B[1;31mKeyError\u001B[0m                                  Traceback (most recent call last)",
      "\u001B[1;32m<ipython-input-53-88f16c82687d>\u001B[0m in \u001B[0;36m<module>\u001B[1;34m\u001B[0m\n\u001B[0;32m      1\u001B[0m \u001B[1;31m#Deleting a key-value pair\u001B[0m\u001B[1;33m\u001B[0m\u001B[1;33m\u001B[0m\u001B[1;33m\u001B[0m\u001B[0m\n\u001B[1;32m----> 2\u001B[1;33m \u001B[1;32mdel\u001B[0m \u001B[0mpurse\u001B[0m\u001B[1;33m[\u001B[0m\u001B[1;34m'aspirin'\u001B[0m\u001B[1;33m]\u001B[0m\u001B[1;33m\u001B[0m\u001B[1;33m\u001B[0m\u001B[0m\n\u001B[0m\u001B[0;32m      3\u001B[0m \u001B[0mpurse\u001B[0m\u001B[1;33m.\u001B[0m\u001B[0mpop\u001B[0m\u001B[1;33m(\u001B[0m\u001B[1;34m'aspirin'\u001B[0m\u001B[1;33m)\u001B[0m\u001B[1;33m\u001B[0m\u001B[1;33m\u001B[0m\u001B[0m\n",
      "\u001B[1;31mKeyError\u001B[0m: 'aspirin'"
     ]
    }
   ],
   "source": [
    "#Deleting a key-value pair\n",
    "del purse['aspirin'] \n",
    "purse.pop('aspirin')"
   ]
  },
  {
   "cell_type": "code",
   "execution_count": 54,
   "metadata": {
    "pycharm": {
     "name": "#%%\n"
    }
   },
   "outputs": [
    {
     "name": "stdout",
     "output_type": "stream",
     "text": [
      "chuck\n",
      "fred\n",
      "jan\n"
     ]
    }
   ],
   "source": [
    "counts = { 'chuck' : 1 , 'fred' : 42, 'jan': 100}\n",
    "\n",
    "#Use the for loop.  Default – keys are returned\n",
    "\n",
    "for item in counts:\n",
    "    print(item)\n"
   ]
  },
  {
   "cell_type": "code",
   "execution_count": 56,
   "metadata": {
    "pycharm": {
     "name": "#%%\n"
    }
   },
   "outputs": [
    {
     "name": "stdout",
     "output_type": "stream",
     "text": [
      "chuck 1\n",
      "fred 42\n",
      "jan 100\n",
      "1\n",
      "42\n",
      "100\n",
      "chuck appears 1 times\n",
      "fred appears 42 times\n",
      "jan appears 100 times\n"
     ]
    }
   ],
   "source": [
    "#Preferred: Specify keys, values, or items (for both)\n",
    "for key in counts.keys(): # looping through key only\n",
    "    print(key, counts[key])\n",
    "for word_count in counts.values(): # looping through values only\n",
    "    print(word_count)\n",
    "for name, word_count in counts.items():\n",
    "    print(f\"{name} appears {word_count} times\")\n"
   ]
  },
  {
   "cell_type": "code",
   "execution_count": null,
   "metadata": {
    "pycharm": {
     "name": "#%%\n"
    }
   },
   "outputs": [],
   "source": [
    "#Sorting – default is to sort the keys\n",
    "for name in sorted(counts) # default is to sort by keys\n",
    "    print(name)\n",
    "for count in sorted(counts.values()): # sort by the values\n",
    "    print(count)"
   ]
  },
  {
   "cell_type": "markdown",
   "metadata": {
    "pycharm": {
     "name": "#%% md\n"
    }
   },
   "source": [
    "## _How does the code below work?_\n",
    "## _How can we add \"Susan\" with a test score of \"92\"?_"
   ]
  },
  {
   "cell_type": "code",
   "execution_count": null,
   "metadata": {
    "pycharm": {
     "name": "#%%\n"
    }
   },
   "outputs": [],
   "source": [
    "quiz_scores = { 'Teri' : 85 , 'Matt' : 72, 'Jan': 100, 'Michael': 65}\n",
    "\n",
    "for key, value in sorted(quiz_scores.items()):\n",
    "    print(key, value)\n"
   ]
  },
  {
   "cell_type": "code",
   "execution_count": null,
   "metadata": {
    "pycharm": {
     "name": "#%%\n"
    }
   },
   "outputs": [],
   "source": []
  },
  {
   "cell_type": "code",
   "execution_count": null,
   "metadata": {
    "pycharm": {
     "name": "#%%\n"
    }
   },
   "outputs": [],
   "source": []
  },
  {
   "cell_type": "markdown",
   "metadata": {
    "pycharm": {
     "name": "#%% md\n"
    }
   },
   "source": [
    "## _How can we find the average score by student? for the whole class?_"
   ]
  },
  {
   "cell_type": "code",
   "execution_count": null,
   "metadata": {
    "pycharm": {
     "name": "#%%\n"
    }
   },
   "outputs": [],
   "source": [
    "student_dict = dict()   # create a blank dictionary\n",
    "\n",
    "# initiate the values (later, we will learn how to read files)\n",
    "student_dict[\"Mike\"] = [44, 53, 42, 94]\n",
    "student_dict[\"Ahmed\"] = [48, 72, 77, 43]\n",
    "student_dict[\"Marian\"] = [85, 51, 72, 90]\n",
    "student_dict[\"Joseph\"] = [98, 64, 62, 47]\n",
    "student_dict[\"John\"] = [62, 73, 62, 51]\n",
    "student_dict[\"Maria\"] = [80, 62, 62, 60]\n",
    "\n",
    "# calculate & print the average by student; print the overall average at the end\n"
   ]
  },
  {
   "cell_type": "code",
   "execution_count": null,
   "metadata": {
    "pycharm": {
     "name": "#%%\n"
    }
   },
   "outputs": [],
   "source": []
  },
  {
   "cell_type": "code",
   "execution_count": null,
   "metadata": {
    "pycharm": {
     "name": "#%%\n"
    }
   },
   "outputs": [],
   "source": []
  },
  {
   "cell_type": "markdown",
   "metadata": {
    "pycharm": {
     "name": "#%% md\n"
    }
   },
   "source": [
    "## _How can I access the data in a nested JSON?_"
   ]
  },
  {
   "cell_type": "code",
   "execution_count": null,
   "metadata": {
    "pycharm": {
     "name": "#%%\n"
    }
   },
   "outputs": [],
   "source": [
    "nested_dict = { 'dictA': {'key_1': 'value_1'},\n",
    "                'dictB': {'key_2': 'value_2'}}"
   ]
  },
  {
   "cell_type": "code",
   "execution_count": null,
   "metadata": {
    "pycharm": {
     "name": "#%%\n"
    }
   },
   "outputs": [],
   "source": [
    "people = {1: {'name': 'John', 'age': '27', 'sex': 'Male'},\n",
    "          2: {'name': 'Marie', 'age': '22', 'sex': 'Female'}}\n",
    "\n",
    "print(people[1]['name'])\n",
    "print(people[1]['age'])\n",
    "print(people[1]['sex'])"
   ]
  },
  {
   "cell_type": "code",
   "execution_count": null,
   "metadata": {
    "pycharm": {
     "name": "#%%\n"
    }
   },
   "outputs": [],
   "source": []
  },
  {
   "cell_type": "markdown",
   "metadata": {
    "pycharm": {
     "name": "#%% md\n"
    }
   },
   "source": [
    "## _How can I access John's full name as a list?_"
   ]
  },
  {
   "cell_type": "code",
   "execution_count": 5,
   "metadata": {
    "pycharm": {
     "name": "#%%\n"
    }
   },
   "outputs": [],
   "source": [
    "people = {1: {'name': 'John', \"fullname\": {'John', \"Jacob\", \"jinglehimer\", \"schmidt\"}, 'age': '27', 'sex': 'Male'},\n",
    "          2: {'name': 'Marie', 'age': '22', 'sex': 'Female'}}"
   ]
  },
  {
   "cell_type": "code",
   "execution_count": 22,
   "metadata": {
    "pycharm": {
     "name": "#%%\n"
    }
   },
   "outputs": [],
   "source": [
    "named = []\n",
    "for name in people[1][\"fullname\"]:\n",
    "    named.append(name)\n",
    "    "
   ]
  },
  {
   "cell_type": "code",
   "execution_count": 23,
   "metadata": {
    "pycharm": {
     "name": "#%%\n"
    }
   },
   "outputs": [
    {
     "data": {
      "text/plain": [
       "['John', 'Jacob', 'jinglehimer', 'schmidt']"
      ]
     },
     "execution_count": 23,
     "metadata": {},
     "output_type": "execute_result"
    }
   ],
   "source": [
    "named"
   ]
  },
  {
   "cell_type": "code",
   "execution_count": null,
   "metadata": {
    "pycharm": {
     "name": "#%%\n"
    }
   },
   "outputs": [],
   "source": []
  },
  {
   "cell_type": "code",
   "execution_count": null,
   "metadata": {
    "pycharm": {
     "name": "#%%\n"
    }
   },
   "outputs": [],
   "source": []
  },
  {
   "cell_type": "markdown",
   "metadata": {
    "pycharm": {
     "name": "#%% md\n"
    }
   },
   "source": [
    "## _Nested Dictionary Practice! Print out Justin's 2nd City in Australia_"
   ]
  },
  {
   "cell_type": "code",
   "execution_count": 1,
   "metadata": {
    "pycharm": {
     "name": "#%%\n"
    }
   },
   "outputs": [],
   "source": [
    "test = {'jake': {'Russia': {'city 1': 'Moscow', 'city 2': 'St. Petersburg'},\n",
    "  'date': '6/7/2021',\n",
    "  'features': ['some', 'some2'],\n",
    "  'kids': 5,\n",
    "  'name': 'jake'},\n",
    " 'justin': {'Australia': {'city 1': 'Sidney', 'city 2': 'Brisbane'},\n",
    "  'date': '1/4/2011',\n",
    "  'features': ['here', 'here2'],\n",
    "  'kids': 1,\n",
    "  'name': 'justin'},\n",
    " 'martin': {'USA': {'city 1': 'New York', 'city 2': 'Los Angeles'},\n",
    "  'date': '1/1/2031',\n",
    "  'features': ['feature', 'feature2'],\n",
    "  'kids': 3,\n",
    "  'name': 'martin'}}"
   ]
  },
  {
   "cell_type": "code",
   "execution_count": null,
   "metadata": {
    "pycharm": {
     "name": "#%%\n"
    }
   },
   "outputs": [],
   "source": []
  },
  {
   "cell_type": "code",
   "execution_count": null,
   "metadata": {
    "pycharm": {
     "name": "#%%\n"
    }
   },
   "outputs": [],
   "source": []
  }
 ],
 "metadata": {
  "kernelspec": {
   "display_name": "Python 3",
   "language": "python",
   "name": "python3"
  },
  "language_info": {
   "codemirror_mode": {
    "name": "ipython",
    "version": 3
   },
   "file_extension": ".py",
   "mimetype": "text/x-python",
   "name": "python",
   "nbconvert_exporter": "python",
   "pygments_lexer": "ipython3",
   "version": "3.7.4"
  }
 },
 "nbformat": 4,
 "nbformat_minor": 2
}