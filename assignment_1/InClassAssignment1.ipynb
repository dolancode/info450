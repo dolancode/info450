{
 "cells": [
  {
   "cell_type": "markdown",
   "metadata": {},
   "source": [
    " <img src=https://www.elegantthemes.com/blog/wp-content/uploads/2020/08/000-http-error-codes.png width=\"600\" height=\"300\">\n",
    " \n",
    " <H1> <center> In-Class/Homework Assignment #1 </center></H1>\n",
    " \n",
    "<h2>  One of the most difficult parts of coding is learning how to understand and fix errors in your code by yourself. \n",
    "This assignment is open note/open internet. </h2>\n",
    " \n",
    " <h3> Directions:\n",
    "    \n",
    "\n",
    " 1. Please debug the code in problems 1-3\n",
    "\n",
    " 2. Then, solve problems 4 & 5 by creating \"input\" functions </h3>\n",
    "\n",
    " "
   ]
  },
  {
   "cell_type": "code",
   "execution_count": null,
   "metadata": {},
   "outputs": [
    {
     "ename": "SyntaxError",
     "evalue": "Missing parentheses in call to 'print'. Did you mean print(\"test\")? (<ipython-input-1-dd6114769fe4>, line 4)",
     "output_type": "error",
     "traceback": [
      "\u001b[1;36m  File \u001b[1;32m\"<ipython-input-1-dd6114769fe4>\"\u001b[1;36m, line \u001b[1;32m4\u001b[0m\n\u001b[1;33m    print \"test\"\u001b[0m\n\u001b[1;37m               ^\u001b[0m\n\u001b[1;31mSyntaxError\u001b[0m\u001b[1;31m:\u001b[0m Missing parentheses in call to 'print'. Did you mean print(\"test\")?\n"
     ]
    }
   ],
   "source": [
    "#1. This should print the sentance from the variable test\n",
    "\n",
    "test = \"Python error messaging is annoying.\"\n",
    "print(test)\n"
   ]
  },
  {
   "cell_type": "code",
   "execution_count": null,
   "metadata": {},
   "outputs": [
    {
     "ename": "SyntaxError",
     "evalue": "invalid syntax (<ipython-input-2-4357636da4be>, line 2)",
     "output_type": "error",
     "traceback": [
      "\u001b[1;36m  File \u001b[1;32m\"<ipython-input-2-4357636da4be>\"\u001b[1;36m, line \u001b[1;32m2\u001b[0m\n\u001b[1;33m    message = 'One of Python's strengths is its interpreter.'\u001b[0m\n\u001b[1;37m                             ^\u001b[0m\n\u001b[1;31mSyntaxError\u001b[0m\u001b[1;31m:\u001b[0m invalid syntax\n"
     ]
    }
   ],
   "source": [
    "#2.  This should print the message 'One of Python's strengths is its diverse community.' in the output\n",
    "message = 'One of Python's strengths is its interpreter.'\n",
    "print(message)"
   ]
  },
  {
   "cell_type": "code",
   "execution_count": null,
   "metadata": {},
   "outputs": [
    {
     "name": "stdout",
     "output_type": "stream",
     "text": [
      "type a string name: testing\n",
      "t\n"
     ]
    }
   ],
   "source": [
    "#3. This should print the LAST element of *any* string named \"this\". \n",
    "# The code currently outputs the first element in the string.\n",
    "\n",
    "#EXAMPLE: If I input \"testing\" my output should be \"g\", if I input \"this\" it should output \"s\"\n",
    "\n",
    "this = input(\"type a string name: \")\n",
    "last_element = this[0]\n",
    "print(last_element)\n",
    "\n"
   ]
  },
  {
   "cell_type": "code",
   "execution_count": null,
   "metadata": {},
   "outputs": [],
   "source": [
    "# 4. Create a basic function using inputs that takes ANY two INTEGERS and will multiply them together, \n",
    "# coerce the final data type to be an INTEGER.\n"
   ]
  },
  {
   "cell_type": "code",
   "execution_count": null,
   "metadata": {},
   "outputs": [],
   "source": [
    "#5. Write a function that will take ANY string provided as an input, reverse it, and make the output ALL CAPITALIZED.\n",
    "# EXAMPLE: weinstein -> NIETSNIEW  "
   ]
  }
 ],
 "metadata": {
  "kernelspec": {
   "display_name": "Python 3 (ipykernel)",
   "language": "python",
   "name": "python3"
  },
  "language_info": {
   "codemirror_mode": {
    "name": "ipython",
    "version": 3
   },
   "file_extension": ".py",
   "mimetype": "text/x-python",
   "name": "python",
   "nbconvert_exporter": "python",
   "pygments_lexer": "ipython3",
   "version": "3.9.12"
  }
 },
 "nbformat": 4,
 "nbformat_minor": 4
}
